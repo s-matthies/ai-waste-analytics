{
 "cells": [
  {
   "cell_type": "markdown",
   "id": "7133d52b-0679-4d73-b192-a0038a164f31",
   "metadata": {},
   "source": [
    "# Daten zu Feiertagen"
   ]
  },
  {
   "cell_type": "markdown",
   "id": "2d5c1fa1-90b0-4e1f-aa25-9b8a6956e490",
   "metadata": {},
   "source": [
    "### Feiertage von 2019 bis 2023 über API abrufen\n",
    "- über API: https://date.nager.at/\n",
    "- API URL: https://date.nager.at/api/v3/PublicHolidays/{year}/DE\n",
    "- Filterung für Berlin (DE-BE)"
   ]
  },
  {
   "cell_type": "markdown",
   "id": "673fdc44-103c-4dbd-8f56-0b5aee0b8d51",
   "metadata": {},
   "source": []
  },
  {
   "cell_type": "code",
   "execution_count": 7,
   "id": "4535b766-bc8c-47ed-80f3-d5d9df30fe3d",
   "metadata": {},
   "outputs": [],
   "source": [
    "import requests\n",
    "import pandas as pd\n",
    "\n",
    "# für Berlin\n",
    "def get_feiertage(year):\n",
    "    # URL für die Feiertage eines bestimmten Jahres in Deutschland\n",
    "    url = f\"https://date.nager.at/api/v3/PublicHolidays/{year}/DE\"\n",
    "\n",
    "    response = requests.get(url)\n",
    "    \n",
    "    if response.status_code == 200:\n",
    "        data = response.json()\n",
    "        \n",
    "        berlin_feiertage = [\n",
    "            {\"Datum\": entry[\"date\"], \"Feiertag\": entry[\"localName\"]} \n",
    "            for entry in data \n",
    "            if entry[\"counties\"] is None or \"DE-BE\" in entry[\"counties\"]\n",
    "        ]\n",
    "        return berlin_feiertage\n",
    "    else:\n",
    "        print(f\"Fehler beim Abrufen der Feiertage für {year}\")\n",
    "        return []\n",
    "\n",
    "# alle von 2019 bis 2023 \n",
    "feiertage_list = []\n",
    "for year in range(2019, 2024):\n",
    "    feiertage_list.extend(get_feiertage(year))\n",
    "\n",
    "# in df umwandeln\n",
    "df_feiertage = pd.DataFrame(feiertage_list)\n",
    "\n",
    "# Datum in Format datetime umwandeln / ISO-Format\n",
    "df_feiertage[\"Datum\"] = pd.to_datetime(df_feiertage[\"Datum\"])\n",
    "\n",
    "# als csv speichern\n",
    "# df_feiertage.to_csv(\"feiertage_berlin_2019_2023.csv\", index=False)"
   ]
  },
  {
   "cell_type": "markdown",
   "id": "222a9a50-5df6-46d2-9f04-3951b52ac821",
   "metadata": {},
   "source": [
    "### Datensatz Überblick"
   ]
  },
  {
   "cell_type": "code",
   "execution_count": 59,
   "id": "77a3e9a9-7e48-4710-beb2-480c9c669082",
   "metadata": {},
   "outputs": [],
   "source": [
    "import pandas as pd\n",
    "\n",
    "df_feiertage = pd.read_csv(\"daten/feiertage_berlin_2019_2023.csv\")"
   ]
  },
  {
   "cell_type": "code",
   "execution_count": 60,
   "id": "4a969670-933a-43e7-864d-b89e7d28e0c4",
   "metadata": {},
   "outputs": [
    {
     "data": {
      "text/html": [
       "<div>\n",
       "<style scoped>\n",
       "    .dataframe tbody tr th:only-of-type {\n",
       "        vertical-align: middle;\n",
       "    }\n",
       "\n",
       "    .dataframe tbody tr th {\n",
       "        vertical-align: top;\n",
       "    }\n",
       "\n",
       "    .dataframe thead th {\n",
       "        text-align: right;\n",
       "    }\n",
       "</style>\n",
       "<table border=\"1\" class=\"dataframe\">\n",
       "  <thead>\n",
       "    <tr style=\"text-align: right;\">\n",
       "      <th></th>\n",
       "      <th>Datum</th>\n",
       "      <th>Feiertag</th>\n",
       "    </tr>\n",
       "  </thead>\n",
       "  <tbody>\n",
       "    <tr>\n",
       "      <th>0</th>\n",
       "      <td>2019-01-01</td>\n",
       "      <td>Neujahr</td>\n",
       "    </tr>\n",
       "    <tr>\n",
       "      <th>1</th>\n",
       "      <td>2019-03-08</td>\n",
       "      <td>Internationaler Frauentag</td>\n",
       "    </tr>\n",
       "    <tr>\n",
       "      <th>2</th>\n",
       "      <td>2019-04-19</td>\n",
       "      <td>Karfreitag</td>\n",
       "    </tr>\n",
       "  </tbody>\n",
       "</table>\n",
       "</div>"
      ],
      "text/plain": [
       "        Datum                   Feiertag\n",
       "0  2019-01-01                    Neujahr\n",
       "1  2019-03-08  Internationaler Frauentag\n",
       "2  2019-04-19                 Karfreitag"
      ]
     },
     "execution_count": 60,
     "metadata": {},
     "output_type": "execute_result"
    }
   ],
   "source": [
    "df_feiertage.head(3)"
   ]
  },
  {
   "cell_type": "code",
   "execution_count": 43,
   "id": "89f58589-3700-455e-a086-c4cf9be04a49",
   "metadata": {},
   "outputs": [
    {
     "data": {
      "text/html": [
       "<div>\n",
       "<style scoped>\n",
       "    .dataframe tbody tr th:only-of-type {\n",
       "        vertical-align: middle;\n",
       "    }\n",
       "\n",
       "    .dataframe tbody tr th {\n",
       "        vertical-align: top;\n",
       "    }\n",
       "\n",
       "    .dataframe thead th {\n",
       "        text-align: right;\n",
       "    }\n",
       "</style>\n",
       "<table border=\"1\" class=\"dataframe\">\n",
       "  <thead>\n",
       "    <tr style=\"text-align: right;\">\n",
       "      <th></th>\n",
       "      <th>Datum</th>\n",
       "      <th>Feiertag</th>\n",
       "    </tr>\n",
       "  </thead>\n",
       "  <tbody>\n",
       "    <tr>\n",
       "      <th>48</th>\n",
       "      <td>2023-10-03</td>\n",
       "      <td>Tag der Deutschen Einheit</td>\n",
       "    </tr>\n",
       "    <tr>\n",
       "      <th>49</th>\n",
       "      <td>2023-12-25</td>\n",
       "      <td>Erster Weihnachtstag</td>\n",
       "    </tr>\n",
       "    <tr>\n",
       "      <th>50</th>\n",
       "      <td>2023-12-26</td>\n",
       "      <td>Zweiter Weihnachtstag</td>\n",
       "    </tr>\n",
       "  </tbody>\n",
       "</table>\n",
       "</div>"
      ],
      "text/plain": [
       "         Datum                   Feiertag\n",
       "48  2023-10-03  Tag der Deutschen Einheit\n",
       "49  2023-12-25       Erster Weihnachtstag\n",
       "50  2023-12-26      Zweiter Weihnachtstag"
      ]
     },
     "execution_count": 43,
     "metadata": {},
     "output_type": "execute_result"
    }
   ],
   "source": [
    "df_feiertage.tail(3)"
   ]
  },
  {
   "cell_type": "code",
   "execution_count": 65,
   "id": "9273f2d3-5821-451e-8060-f3db408308ad",
   "metadata": {},
   "outputs": [
    {
     "name": "stdout",
     "output_type": "stream",
     "text": [
      "<class 'pandas.core.frame.DataFrame'>\n",
      "RangeIndex: 51 entries, 0 to 50\n",
      "Data columns (total 2 columns):\n",
      " #   Column    Non-Null Count  Dtype         \n",
      "---  ------    --------------  -----         \n",
      " 0   Datum     51 non-null     datetime64[ns]\n",
      " 1   Feiertag  51 non-null     object        \n",
      "dtypes: datetime64[ns](1), object(1)\n",
      "memory usage: 948.0+ bytes\n"
     ]
    }
   ],
   "source": [
    "# Überblick\n",
    "df_feiertage.info()"
   ]
  },
  {
   "cell_type": "code",
   "execution_count": 45,
   "id": "d18f8b75-eb51-470b-a815-56b63d36ff9b",
   "metadata": {},
   "outputs": [
    {
     "data": {
      "text/html": [
       "<div>\n",
       "<style scoped>\n",
       "    .dataframe tbody tr th:only-of-type {\n",
       "        vertical-align: middle;\n",
       "    }\n",
       "\n",
       "    .dataframe tbody tr th {\n",
       "        vertical-align: top;\n",
       "    }\n",
       "\n",
       "    .dataframe thead th {\n",
       "        text-align: right;\n",
       "    }\n",
       "</style>\n",
       "<table border=\"1\" class=\"dataframe\">\n",
       "  <thead>\n",
       "    <tr style=\"text-align: right;\">\n",
       "      <th></th>\n",
       "      <th>Datum</th>\n",
       "      <th>Feiertag</th>\n",
       "    </tr>\n",
       "  </thead>\n",
       "  <tbody>\n",
       "    <tr>\n",
       "      <th>count</th>\n",
       "      <td>51</td>\n",
       "      <td>51</td>\n",
       "    </tr>\n",
       "    <tr>\n",
       "      <th>unique</th>\n",
       "      <td>51</td>\n",
       "      <td>11</td>\n",
       "    </tr>\n",
       "    <tr>\n",
       "      <th>top</th>\n",
       "      <td>2019-01-01</td>\n",
       "      <td>Neujahr</td>\n",
       "    </tr>\n",
       "    <tr>\n",
       "      <th>freq</th>\n",
       "      <td>1</td>\n",
       "      <td>5</td>\n",
       "    </tr>\n",
       "  </tbody>\n",
       "</table>\n",
       "</div>"
      ],
      "text/plain": [
       "             Datum Feiertag\n",
       "count           51       51\n",
       "unique          51       11\n",
       "top     2019-01-01  Neujahr\n",
       "freq             1        5"
      ]
     },
     "execution_count": 45,
     "metadata": {},
     "output_type": "execute_result"
    }
   ],
   "source": [
    "# Statistische Zusammenfassung (für numerische Spalten)\n",
    "df_feiertage.describe()"
   ]
  },
  {
   "cell_type": "markdown",
   "id": "44dde373-3f38-4a2e-bbd0-c0f52f102ff8",
   "metadata": {},
   "source": [
    "### Fehlende Werte"
   ]
  },
  {
   "cell_type": "code",
   "execution_count": 61,
   "id": "1de3d0a4-f974-4e09-8855-3ac741be83b7",
   "metadata": {},
   "outputs": [
    {
     "data": {
      "text/plain": [
       "Datum       0\n",
       "Feiertag    0\n",
       "dtype: int64"
      ]
     },
     "execution_count": 61,
     "metadata": {},
     "output_type": "execute_result"
    }
   ],
   "source": [
    "df_feiertage.isnull().sum()"
   ]
  },
  {
   "cell_type": "markdown",
   "id": "ae42a220-ed64-4d1a-86e9-3ddb373aa714",
   "metadata": {},
   "source": [
    "### Liste mit allen Tagen erstellen & Feiertage markieren\n",
    "- Feiertag = 1\n",
    "- kein Feiertag = 0"
   ]
  },
  {
   "cell_type": "code",
   "execution_count": 62,
   "id": "edd79458-ecfe-4cb4-a1eb-b7ade1d16604",
   "metadata": {},
   "outputs": [],
   "source": [
    "# 1. alle Tage zwischen 2019-01-01 und 2023-12-31\n",
    "all_dates = pd.date_range(start=\"2019-01-01\", end=\"2023-12-31\", freq=\"D\")\n",
    "\n",
    "# 2. df \n",
    "df_all_days = pd.DataFrame({\"Datum\": all_dates})\n",
    "\n",
    "# 3. neue Spalte mit 'Feiertag' mit Wert 0 (default) \n",
    "df_all_days[\"Feiertag\"] = 0\n",
    "\n",
    "# 4. Datumsformat\n",
    "df_all_days[\"Datum\"] = pd.to_datetime(df_all_days[\"Datum\"], format=\"%Y-%m-%d\")\n",
    "df_feiertage[\"Datum\"] = pd.to_datetime(df_feiertage[\"Datum\"], format=\"%Y-%m-%d\")\n",
    "\n",
    "# 5. Feiertage merhalten Wert 1\n",
    "df_all_days.loc[df_all_days[\"Datum\"].isin(df_feiertage[\"Datum\"]), \"Feiertag\"] = 1"
   ]
  },
  {
   "cell_type": "code",
   "execution_count": 63,
   "id": "b32b8481-ce7f-4a19-9085-0dde87614a95",
   "metadata": {},
   "outputs": [
    {
     "data": {
      "text/html": [
       "<div>\n",
       "<style scoped>\n",
       "    .dataframe tbody tr th:only-of-type {\n",
       "        vertical-align: middle;\n",
       "    }\n",
       "\n",
       "    .dataframe tbody tr th {\n",
       "        vertical-align: top;\n",
       "    }\n",
       "\n",
       "    .dataframe thead th {\n",
       "        text-align: right;\n",
       "    }\n",
       "</style>\n",
       "<table border=\"1\" class=\"dataframe\">\n",
       "  <thead>\n",
       "    <tr style=\"text-align: right;\">\n",
       "      <th></th>\n",
       "      <th>Datum</th>\n",
       "      <th>Feiertag</th>\n",
       "    </tr>\n",
       "  </thead>\n",
       "  <tbody>\n",
       "    <tr>\n",
       "      <th>0</th>\n",
       "      <td>2019-01-01</td>\n",
       "      <td>1</td>\n",
       "    </tr>\n",
       "    <tr>\n",
       "      <th>1</th>\n",
       "      <td>2019-01-02</td>\n",
       "      <td>0</td>\n",
       "    </tr>\n",
       "    <tr>\n",
       "      <th>2</th>\n",
       "      <td>2019-01-03</td>\n",
       "      <td>0</td>\n",
       "    </tr>\n",
       "  </tbody>\n",
       "</table>\n",
       "</div>"
      ],
      "text/plain": [
       "       Datum  Feiertag\n",
       "0 2019-01-01         1\n",
       "1 2019-01-02         0\n",
       "2 2019-01-03         0"
      ]
     },
     "execution_count": 63,
     "metadata": {},
     "output_type": "execute_result"
    }
   ],
   "source": [
    "df_all_days.head(3)"
   ]
  },
  {
   "cell_type": "code",
   "execution_count": 64,
   "id": "45c6ee8c-6249-4a46-9a7e-354f8a422079",
   "metadata": {},
   "outputs": [
    {
     "data": {
      "text/html": [
       "<div>\n",
       "<style scoped>\n",
       "    .dataframe tbody tr th:only-of-type {\n",
       "        vertical-align: middle;\n",
       "    }\n",
       "\n",
       "    .dataframe tbody tr th {\n",
       "        vertical-align: top;\n",
       "    }\n",
       "\n",
       "    .dataframe thead th {\n",
       "        text-align: right;\n",
       "    }\n",
       "</style>\n",
       "<table border=\"1\" class=\"dataframe\">\n",
       "  <thead>\n",
       "    <tr style=\"text-align: right;\">\n",
       "      <th></th>\n",
       "      <th>Datum</th>\n",
       "      <th>Feiertag</th>\n",
       "    </tr>\n",
       "  </thead>\n",
       "  <tbody>\n",
       "    <tr>\n",
       "      <th>1816</th>\n",
       "      <td>2023-12-22</td>\n",
       "      <td>0</td>\n",
       "    </tr>\n",
       "    <tr>\n",
       "      <th>1817</th>\n",
       "      <td>2023-12-23</td>\n",
       "      <td>0</td>\n",
       "    </tr>\n",
       "    <tr>\n",
       "      <th>1818</th>\n",
       "      <td>2023-12-24</td>\n",
       "      <td>0</td>\n",
       "    </tr>\n",
       "    <tr>\n",
       "      <th>1819</th>\n",
       "      <td>2023-12-25</td>\n",
       "      <td>1</td>\n",
       "    </tr>\n",
       "    <tr>\n",
       "      <th>1820</th>\n",
       "      <td>2023-12-26</td>\n",
       "      <td>1</td>\n",
       "    </tr>\n",
       "    <tr>\n",
       "      <th>1821</th>\n",
       "      <td>2023-12-27</td>\n",
       "      <td>0</td>\n",
       "    </tr>\n",
       "    <tr>\n",
       "      <th>1822</th>\n",
       "      <td>2023-12-28</td>\n",
       "      <td>0</td>\n",
       "    </tr>\n",
       "    <tr>\n",
       "      <th>1823</th>\n",
       "      <td>2023-12-29</td>\n",
       "      <td>0</td>\n",
       "    </tr>\n",
       "    <tr>\n",
       "      <th>1824</th>\n",
       "      <td>2023-12-30</td>\n",
       "      <td>0</td>\n",
       "    </tr>\n",
       "    <tr>\n",
       "      <th>1825</th>\n",
       "      <td>2023-12-31</td>\n",
       "      <td>0</td>\n",
       "    </tr>\n",
       "  </tbody>\n",
       "</table>\n",
       "</div>"
      ],
      "text/plain": [
       "          Datum  Feiertag\n",
       "1816 2023-12-22         0\n",
       "1817 2023-12-23         0\n",
       "1818 2023-12-24         0\n",
       "1819 2023-12-25         1\n",
       "1820 2023-12-26         1\n",
       "1821 2023-12-27         0\n",
       "1822 2023-12-28         0\n",
       "1823 2023-12-29         0\n",
       "1824 2023-12-30         0\n",
       "1825 2023-12-31         0"
      ]
     },
     "execution_count": 64,
     "metadata": {},
     "output_type": "execute_result"
    }
   ],
   "source": [
    "(df_all_days.tail(10))"
   ]
  },
  {
   "cell_type": "code",
   "execution_count": 58,
   "id": "6893e1ab-28da-42d1-8198-d50467dea9c1",
   "metadata": {},
   "outputs": [],
   "source": [
    "# als csv speichern\n",
    "# df_all_days.to_csv(\"data/feiertage_komplett.csv\", index=False, encoding=\"utf-8\")"
   ]
  }
 ],
 "metadata": {
  "kernelspec": {
   "display_name": "Python 3 (ipykernel)",
   "language": "python",
   "name": "python3"
  },
  "language_info": {
   "codemirror_mode": {
    "name": "ipython",
    "version": 3
   },
   "file_extension": ".py",
   "mimetype": "text/x-python",
   "name": "python",
   "nbconvert_exporter": "python",
   "pygments_lexer": "ipython3",
   "version": "3.13.2"
  }
 },
 "nbformat": 4,
 "nbformat_minor": 5
}
