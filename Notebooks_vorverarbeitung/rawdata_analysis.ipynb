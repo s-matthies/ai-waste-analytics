{
 "cells": [
  {
   "cell_type": "markdown",
   "id": "3d3a8fc2-880b-4f19-b852-8efa72b9f48a",
   "metadata": {},
   "source": [
    "## Datenanalyse BSR Datensatz"
   ]
  },
  {
   "cell_type": "code",
   "execution_count": 16,
   "id": "a15d3409-b999-4a48-a5a5-b6f9ccd97d84",
   "metadata": {},
   "outputs": [
    {
     "name": "stdout",
     "output_type": "stream",
     "text": [
      "   Monat  KW  Jahr     Datum  Hof  Schicht  Tour Tonnage Abfallart\n",
      "0      1   1  2019  02.01.19  VMF        1     1    5,59       BIO\n",
      "1      1   1  2019  02.01.19  VMF        1     4    3,23       BIO\n",
      "2      1   1  2019  02.01.19  VMF        1     5    5,68       BIO\n",
      "3      1   1  2019  02.01.19  VMF        1     6    5,48       BIO\n",
      "4      1   1  2019  02.01.19  VMF        1     7    7,84       BIO\n",
      "Monat         int64\n",
      "KW            int64\n",
      "Jahr          int64\n",
      "Datum        object\n",
      "Hof          object\n",
      "Schicht       int64\n",
      "Tour          int64\n",
      "Tonnage      object\n",
      "Abfallart    object\n",
      "dtype: object\n"
     ]
    }
   ],
   "source": [
    "import pandas as pd\n",
    "import os\n",
    "\n",
    "file_path = os.path.join( \"Daten\",  \"basis_daten.csv\")\n",
    "\n",
    "df = pd.read_csv(file_path, sep=\";\")  \n",
    "print(df.head())  # Zeigt die ersten 5 Zeilen\n",
    "print(df.dtypes)  # Zeigt die Datentypen der Spalten\n"
   ]
  },
  {
   "cell_type": "code",
   "execution_count": 32,
   "id": "690ae1c4-31da-49a0-8f4f-676961117511",
   "metadata": {},
   "outputs": [
    {
     "data": {
      "text/html": [
       "<div>\n",
       "<style scoped>\n",
       "    .dataframe tbody tr th:only-of-type {\n",
       "        vertical-align: middle;\n",
       "    }\n",
       "\n",
       "    .dataframe tbody tr th {\n",
       "        vertical-align: top;\n",
       "    }\n",
       "\n",
       "    .dataframe thead th {\n",
       "        text-align: right;\n",
       "    }\n",
       "</style>\n",
       "<table border=\"1\" class=\"dataframe\">\n",
       "  <thead>\n",
       "    <tr style=\"text-align: right;\">\n",
       "      <th></th>\n",
       "      <th>Monat</th>\n",
       "      <th>KW</th>\n",
       "      <th>Jahr</th>\n",
       "      <th>Schicht</th>\n",
       "      <th>Tour</th>\n",
       "      <th>Tonnage</th>\n",
       "    </tr>\n",
       "  </thead>\n",
       "  <tbody>\n",
       "    <tr>\n",
       "      <th>count</th>\n",
       "      <td>381661.000000</td>\n",
       "      <td>381661.000000</td>\n",
       "      <td>381661.000000</td>\n",
       "      <td>381661.000000</td>\n",
       "      <td>381661.000000</td>\n",
       "      <td>381661.000000</td>\n",
       "    </tr>\n",
       "    <tr>\n",
       "      <th>mean</th>\n",
       "      <td>6.619073</td>\n",
       "      <td>27.008128</td>\n",
       "      <td>2021.049664</td>\n",
       "      <td>1.018522</td>\n",
       "      <td>143.118574</td>\n",
       "      <td>12.125463</td>\n",
       "    </tr>\n",
       "    <tr>\n",
       "      <th>std</th>\n",
       "      <td>3.408010</td>\n",
       "      <td>14.880305</td>\n",
       "      <td>1.405633</td>\n",
       "      <td>0.134828</td>\n",
       "      <td>529.435676</td>\n",
       "      <td>5.993363</td>\n",
       "    </tr>\n",
       "    <tr>\n",
       "      <th>min</th>\n",
       "      <td>1.000000</td>\n",
       "      <td>1.000000</td>\n",
       "      <td>2019.000000</td>\n",
       "      <td>1.000000</td>\n",
       "      <td>1.000000</td>\n",
       "      <td>0.100000</td>\n",
       "    </tr>\n",
       "    <tr>\n",
       "      <th>25%</th>\n",
       "      <td>4.000000</td>\n",
       "      <td>14.000000</td>\n",
       "      <td>2020.000000</td>\n",
       "      <td>1.000000</td>\n",
       "      <td>11.000000</td>\n",
       "      <td>8.080000</td>\n",
       "    </tr>\n",
       "    <tr>\n",
       "      <th>50%</th>\n",
       "      <td>7.000000</td>\n",
       "      <td>27.000000</td>\n",
       "      <td>2021.000000</td>\n",
       "      <td>1.000000</td>\n",
       "      <td>23.000000</td>\n",
       "      <td>11.100000</td>\n",
       "    </tr>\n",
       "    <tr>\n",
       "      <th>75%</th>\n",
       "      <td>10.000000</td>\n",
       "      <td>40.000000</td>\n",
       "      <td>2022.000000</td>\n",
       "      <td>1.000000</td>\n",
       "      <td>41.000000</td>\n",
       "      <td>16.910000</td>\n",
       "    </tr>\n",
       "    <tr>\n",
       "      <th>max</th>\n",
       "      <td>12.000000</td>\n",
       "      <td>53.000000</td>\n",
       "      <td>2023.000000</td>\n",
       "      <td>2.000000</td>\n",
       "      <td>5513.000000</td>\n",
       "      <td>59.580000</td>\n",
       "    </tr>\n",
       "  </tbody>\n",
       "</table>\n",
       "</div>"
      ],
      "text/plain": [
       "               Monat             KW           Jahr        Schicht  \\\n",
       "count  381661.000000  381661.000000  381661.000000  381661.000000   \n",
       "mean        6.619073      27.008128    2021.049664       1.018522   \n",
       "std         3.408010      14.880305       1.405633       0.134828   \n",
       "min         1.000000       1.000000    2019.000000       1.000000   \n",
       "25%         4.000000      14.000000    2020.000000       1.000000   \n",
       "50%         7.000000      27.000000    2021.000000       1.000000   \n",
       "75%        10.000000      40.000000    2022.000000       1.000000   \n",
       "max        12.000000      53.000000    2023.000000       2.000000   \n",
       "\n",
       "                Tour        Tonnage  \n",
       "count  381661.000000  381661.000000  \n",
       "mean      143.118574      12.125463  \n",
       "std       529.435676       5.993363  \n",
       "min         1.000000       0.100000  \n",
       "25%        11.000000       8.080000  \n",
       "50%        23.000000      11.100000  \n",
       "75%        41.000000      16.910000  \n",
       "max      5513.000000      59.580000  "
      ]
     },
     "execution_count": 32,
     "metadata": {},
     "output_type": "execute_result"
    }
   ],
   "source": [
    "df.describe()"
   ]
  },
  {
   "cell_type": "code",
   "execution_count": 33,
   "id": "8ab6886a-4add-44fc-9548-7bf5399b2d14",
   "metadata": {},
   "outputs": [
    {
     "name": "stdout",
     "output_type": "stream",
     "text": [
      "381661\n"
     ]
    }
   ],
   "source": [
    "print(len(df))"
   ]
  },
  {
   "cell_type": "code",
   "execution_count": 37,
   "id": "6f756aea-85b9-4efc-a8dc-1d0755996c99",
   "metadata": {},
   "outputs": [
    {
     "name": "stdout",
     "output_type": "stream",
     "text": [
      "1\n"
     ]
    }
   ],
   "source": [
    "print(df.duplicated().sum())  # Anzahl der doppelten Zeilen\n"
   ]
  },
  {
   "cell_type": "code",
   "execution_count": 39,
   "id": "17efee9b-2a49-4fc6-bef0-b8ae0b33902f",
   "metadata": {
    "scrolled": true
   },
   "outputs": [
    {
     "data": {
      "text/html": [
       "<div>\n",
       "<style scoped>\n",
       "    .dataframe tbody tr th:only-of-type {\n",
       "        vertical-align: middle;\n",
       "    }\n",
       "\n",
       "    .dataframe tbody tr th {\n",
       "        vertical-align: top;\n",
       "    }\n",
       "\n",
       "    .dataframe thead th {\n",
       "        text-align: right;\n",
       "    }\n",
       "</style>\n",
       "<table border=\"1\" class=\"dataframe\">\n",
       "  <thead>\n",
       "    <tr style=\"text-align: right;\">\n",
       "      <th></th>\n",
       "      <th>Monat</th>\n",
       "      <th>KW</th>\n",
       "      <th>Jahr</th>\n",
       "      <th>Datum</th>\n",
       "      <th>Hof</th>\n",
       "      <th>Schicht</th>\n",
       "      <th>Tour</th>\n",
       "      <th>Tonnage</th>\n",
       "      <th>Abfallart</th>\n",
       "    </tr>\n",
       "  </thead>\n",
       "  <tbody>\n",
       "    <tr>\n",
       "      <th>213084</th>\n",
       "      <td>11</td>\n",
       "      <td>45</td>\n",
       "      <td>2021</td>\n",
       "      <td>11.11.21</td>\n",
       "      <td>VMWSM</td>\n",
       "      <td>2</td>\n",
       "      <td>2202</td>\n",
       "      <td>2.25</td>\n",
       "      <td>SPM Sammlung</td>\n",
       "    </tr>\n",
       "    <tr>\n",
       "      <th>213085</th>\n",
       "      <td>11</td>\n",
       "      <td>45</td>\n",
       "      <td>2021</td>\n",
       "      <td>11.11.21</td>\n",
       "      <td>VMWSM</td>\n",
       "      <td>2</td>\n",
       "      <td>2202</td>\n",
       "      <td>2.25</td>\n",
       "      <td>SPM Sammlung</td>\n",
       "    </tr>\n",
       "  </tbody>\n",
       "</table>\n",
       "</div>"
      ],
      "text/plain": [
       "        Monat  KW  Jahr     Datum    Hof  Schicht  Tour  Tonnage     Abfallart\n",
       "213084     11  45  2021  11.11.21  VMWSM        2  2202     2.25  SPM Sammlung\n",
       "213085     11  45  2021  11.11.21  VMWSM        2  2202     2.25  SPM Sammlung"
      ]
     },
     "execution_count": 39,
     "metadata": {},
     "output_type": "execute_result"
    }
   ],
   "source": [
    "df[df.duplicated(keep=False)]\n",
    "\n"
   ]
  },
  {
   "cell_type": "code",
   "execution_count": 40,
   "id": "e8f6886f-db55-4766-95af-0947b2b22574",
   "metadata": {},
   "outputs": [],
   "source": [
    "df = df.drop_duplicates(keep=\"first\")\n"
   ]
  },
  {
   "cell_type": "code",
   "execution_count": 41,
   "id": "0e8236e3-9093-40d2-8208-584b0b731d88",
   "metadata": {},
   "outputs": [
    {
     "name": "stdout",
     "output_type": "stream",
     "text": [
      "0\n"
     ]
    }
   ],
   "source": [
    "print(df.duplicated().sum())"
   ]
  },
  {
   "cell_type": "code",
   "execution_count": 42,
   "id": "a771d848-ac4f-4591-af6b-3b85e8f91089",
   "metadata": {},
   "outputs": [
    {
     "name": "stdout",
     "output_type": "stream",
     "text": [
      "Einzigartige Werte in der Spalte 'Monat':\n",
      "[ 1  2  3  4  5  6  7  8  9 10 11 12]\n",
      "\n",
      "\n",
      "Einzigartige Werte in der Spalte 'KW':\n",
      "[ 1  2  3  4  5  6  7  8  9 10 11 12 13 14 15 16 17 18 19 20 21 22 23 24\n",
      " 25 26 27 28 29 30 31 32 33 34 35 36 37 38 39 40 41 42 43 44 45 46 47 48\n",
      " 49 50 51 52 53]\n",
      "\n",
      "\n",
      "Einzigartige Werte in der Spalte 'Jahr':\n",
      "[2019 2020 2021 2022 2023]\n",
      "\n",
      "\n",
      "Einzigartige Werte in der Spalte 'Datum':\n",
      "['02.01.19' '03.01.19' '04.01.19' ... '28.12.23' '29.12.23' '30.12.23']\n",
      "\n",
      "\n",
      "Einzigartige Werte in der Spalte 'Hof':\n",
      "['VMF' 'VMG' 'VMM' 'VMN' 'VMWSF' 'VMWSN' 'VMWSM']\n",
      "\n",
      "\n",
      "Einzigartige Werte in der Spalte 'Schicht':\n",
      "[1 2]\n",
      "\n",
      "\n",
      "Einzigartige Werte in der Spalte 'Tour':\n",
      "[   1    4    5    6    7    9   10   12    2    3    8   11   13   14\n",
      "   15   16   17   18   19   20   21   22   23   24   25   26   27   28\n",
      "   29   30   31   32   33   34   35   36   37   38   39   40   41   42\n",
      "   43   44   45   46   47   48   49   50   51   52   53   77   54   55\n",
      " 1101 1102 1103 1104 1105 1106 1107 1108 1110 1201 1202 1203 3101 3102\n",
      " 3103 3104 3201 3202   66   99  111   56 5501 5502 5504 5506 5507 5508\n",
      " 3303 1109 5503 3300 5505 5509 5510 3301 3302 3304 5511   57   60 1111\n",
      " 3105 1204   67   58 5512 5513   65 1112  121   70 2101 2102 2201   68\n",
      " 2103   61   64 3203  130  112   71 2202   63   69   90   72   80   82\n",
      "  113   83   81   84 2203]\n",
      "\n",
      "\n",
      "Einzigartige Werte in der Spalte 'Tonnage':\n",
      "[ 5.59  3.23  5.68 ... 40.1  42.32 46.3 ]\n",
      "\n",
      "\n",
      "Einzigartige Werte in der Spalte 'Abfallart':\n",
      "['BIO' 'HM' 'SPM Sammlung']\n",
      "\n",
      "\n"
     ]
    }
   ],
   "source": [
    "for column in df.columns:\n",
    "    print(f\"Einzigartige Werte in der Spalte '{column}':\")\n",
    "    print(df[column].unique())\n",
    "    print(\"\\n\")\n"
   ]
  },
  {
   "cell_type": "code",
   "execution_count": 43,
   "id": "255b2911-fd22-4cf4-93fe-fa553e45bf2b",
   "metadata": {},
   "outputs": [],
   "source": [
    "df['Datum'] = pd.to_datetime(df['Datum'], format='%d.%m.%y')\n"
   ]
  },
  {
   "cell_type": "code",
   "execution_count": 44,
   "id": "94240fb2-1ed5-4fc4-a637-49fcca34c14a",
   "metadata": {},
   "outputs": [
    {
     "name": "stdout",
     "output_type": "stream",
     "text": [
      "Alle Datumswerte liegen im gewünschten Bereich.\n"
     ]
    }
   ],
   "source": [
    "start_date = pd.to_datetime('2019-01-01')\n",
    "end_date = pd.to_datetime('2023-12-31')\n",
    "\n",
    "# Überprüfen, ob alle Daten im Bereich liegen\n",
    "are_dates_in_range = df['Datum'].between(start_date, end_date).all()\n",
    "\n",
    "if are_dates_in_range:\n",
    "    print(\"Alle Datumswerte liegen im gewünschten Bereich.\")\n",
    "else:\n",
    "    print(\"Es gibt Datumswerte, die außerhalb des gewünschten Bereichs liegen.\")\n"
   ]
  },
  {
   "cell_type": "code",
   "execution_count": 50,
   "id": "4fd6a861-f693-48d4-810e-27fe8b08e5be",
   "metadata": {},
   "outputs": [
    {
     "name": "stdout",
     "output_type": "stream",
     "text": [
      "0\n"
     ]
    }
   ],
   "source": [
    "# Anzahl der NaN-Werte in der Tonnage-Spalte\n",
    "print(df['Tonnage'].isna().sum())\n",
    "\n",
    "# Entferne Zeilen mit NaN-Werten\n",
    "#df_cleaned = df.dropna(subset=['Tonnage'])\n"
   ]
  },
  {
   "cell_type": "code",
   "execution_count": 54,
   "id": "7593541b-838f-4899-a5ab-7f338f8c1a75",
   "metadata": {},
   "outputs": [
    {
     "name": "stdout",
     "output_type": "stream",
     "text": [
      "Tour\n",
      "1       11.061440\n",
      "2       12.106202\n",
      "3       11.419511\n",
      "4       13.099679\n",
      "5       11.818078\n",
      "          ...    \n",
      "5509     4.866552\n",
      "5510     4.724000\n",
      "5511     4.754000\n",
      "5512     9.995000\n",
      "5513     6.560000\n",
      "Name: Tonnage, Length: 131, dtype: float64\n"
     ]
    }
   ],
   "source": [
    "durchschnitt_tonnage = df.groupby('Tour')['Tonnage'].mean()\n",
    "print(durchschnitt_tonnage)"
   ]
  },
  {
   "cell_type": "code",
   "execution_count": 59,
   "id": "242d0ae6-3632-425b-a4e3-df7b5b14ae84",
   "metadata": {},
   "outputs": [
    {
     "name": "stdout",
     "output_type": "stream",
     "text": [
      "Tonnage\n",
      "11.42    504\n",
      "11.46    499\n",
      "11.52    494\n",
      "11.60    494\n",
      "11.68    492\n",
      "11.50    488\n",
      "11.44    488\n",
      "11.40    486\n",
      "11.16    486\n",
      "11.06    485\n",
      "Name: count, dtype: int64\n"
     ]
    }
   ],
   "source": [
    "# Häufigkeit der einzelnen Tonnage-Werte\n",
    "tonnage_counts = df['Tonnage'].value_counts()\n",
    "\n",
    "# Überprüfe die ersten 10 häufigsten Werte\n",
    "print(tonnage_counts.head(10))\n",
    "\n"
   ]
  },
  {
   "cell_type": "code",
   "execution_count": 56,
   "id": "77606d5c-7b8b-4e46-8085-0eab8fcc26c6",
   "metadata": {
    "jupyter": {
     "source_hidden": true
    }
   },
   "outputs": [
    {
     "name": "stdout",
     "output_type": "stream",
     "text": [
      "12.125489100246297\n"
     ]
    }
   ],
   "source": [
    "durchschnitt_gesamt_tonnage = df['Tonnage'].mean()\n",
    "\n",
    "# Ausgabe des Durchschnitts der Tonnage\n",
    "print(durchschnitt_gesamt_tonnage)\n"
   ]
  },
  {
   "cell_type": "code",
   "execution_count": 45,
   "id": "c9c64577-1437-4c0a-8263-b07a8f4dcdac",
   "metadata": {},
   "outputs": [
    {
     "name": "stdout",
     "output_type": "stream",
     "text": [
      "        Monat  KW  Jahr      Datum  Hof  Schicht  Tour  Tonnage Abfallart\n",
      "77          1   1  2019 2019-01-02  VMG        1    12    32.08        HM\n",
      "90          1   1  2019 2019-01-02  VMG        1    25    33.02        HM\n",
      "97          1   1  2019 2019-01-02  VMG        1    32    37.26        HM\n",
      "101         1   1  2019 2019-01-02  VMG        1    36    32.39        HM\n",
      "221         1   1  2019 2019-01-02  VMN        1    40    32.35        HM\n",
      "...       ...  ..   ...        ...  ...      ...   ...      ...       ...\n",
      "381271     12  52  2023 2023-12-29  VMN        1     2    46.30        HM\n",
      "381275     12  52  2023 2023-12-29  VMN        1     5    35.28        HM\n",
      "381278     12  52  2023 2023-12-29  VMN        1     8    34.44        HM\n",
      "381281     12  52  2023 2023-12-29  VMN        1    11    37.29        HM\n",
      "381303     12  52  2023 2023-12-29  VMN        1    33    32.20        HM\n",
      "\n",
      "[1660 rows x 9 columns]\n"
     ]
    }
   ],
   "source": [
    "# Berechne Q1 (25. Perzentil) und Q3 (75. Perzentil)\n",
    "Q1 = df['Tonnage'].quantile(0.25)\n",
    "Q3 = df['Tonnage'].quantile(0.75)\n",
    "\n",
    "# Berechne den IQR\n",
    "IQR = Q3 - Q1\n",
    "\n",
    "# Berechne die unteren und oberen Grenzen für Outlier\n",
    "lower_bound = Q1 - 1.5 * IQR\n",
    "upper_bound = Q3 + 1.5 * IQR\n",
    "\n",
    "# Finde Outlier\n",
    "outliers = df[(df['Tonnage'] < lower_bound) | (df['Tonnage'] > upper_bound)]\n",
    "\n",
    "print(outliers)\n"
   ]
  },
  {
   "cell_type": "code",
   "execution_count": 48,
   "id": "8a5a5dc6-3592-4225-a09c-46e9c65904ac",
   "metadata": {},
   "outputs": [
    {
     "data": {
      "image/png": "[encoded data removed]",
      "text/plain": [
       "<Figure size 1000x600 with 1 Axes>"
      ]
     },
     "metadata": {},
     "output_type": "display_data"
    }
   ],
   "source": [
    "# Scatterplot von Tonnage im Vergleich zum Jahr\n",
    "plt.figure(figsize=(10, 6))\n",
    "plt.scatter(df['Jahr'], df['Tonnage'], alpha=0.5)\n",
    "plt.title('Scatterplot: Jahr vs. Tonnage')\n",
    "plt.xlabel('Jahr')\n",
    "plt.ylabel('Tonnage')\n",
    "plt.show()\n"
   ]
  },
  {
   "cell_type": "code",
   "execution_count": 49,
   "id": "a19bc87c-a666-4bc7-8ef2-0e8ba5863750",
   "metadata": {},
   "outputs": [
    {
     "data": {
      "image/png": "[encoded data removed]",
      "text/plain": [
       "<Figure size 1000x600 with 1 Axes>"
      ]
     },
     "metadata": {},
     "output_type": "display_data"
    }
   ],
   "source": [
    "# Histogramm der Tonnage\n",
    "plt.figure(figsize=(10, 6))\n",
    "plt.hist(df['Tonnage'], bins=30, edgecolor='black')\n",
    "plt.title('Histogramm der Tonnage')\n",
    "plt.xlabel('Tonnage')\n",
    "plt.ylabel('Häufigkeit')\n",
    "plt.show()\n"
   ]
  },
  {
   "cell_type": "code",
   "execution_count": 47,
   "id": "71a441ec-294c-49df-ae9c-ae32ed89f983",
   "metadata": {},
   "outputs": [
    {
     "data": {
      "image/png": "[encoded data removed]",
      "text/plain": [
       "<Figure size 1000x600 with 1 Axes>"
      ]
     },
     "metadata": {},
     "output_type": "display_data"
    }
   ],
   "source": [
    "import matplotlib.pyplot as plt\n",
    "import seaborn as sns\n",
    "\n",
    "# Boxplot für Tonnage\n",
    "plt.figure(figsize=(10, 6))\n",
    "sns.boxplot(x=df['Tonnage'])\n",
    "plt.title('Boxplot der Tonnage')\n",
    "plt.show()\n"
   ]
  },
  {
   "cell_type": "code",
   "execution_count": 46,
   "id": "712fda9e-c1b8-4ca3-bff7-60eb978df562",
   "metadata": {},
   "outputs": [
    {
     "name": "stdout",
     "output_type": "stream",
     "text": [
      "        Monat  KW  Jahr      Datum  Hof  Schicht  Tour  Tonnage Abfallart  \\\n",
      "77          1   1  2019 2019-01-02  VMG        1    12    32.08        HM   \n",
      "90          1   1  2019 2019-01-02  VMG        1    25    33.02        HM   \n",
      "97          1   1  2019 2019-01-02  VMG        1    32    37.26        HM   \n",
      "101         1   1  2019 2019-01-02  VMG        1    36    32.39        HM   \n",
      "221         1   1  2019 2019-01-02  VMN        1    40    32.35        HM   \n",
      "...       ...  ..   ...        ...  ...      ...   ...      ...       ...   \n",
      "381271     12  52  2023 2023-12-29  VMN        1     2    46.30        HM   \n",
      "381275     12  52  2023 2023-12-29  VMN        1     5    35.28        HM   \n",
      "381278     12  52  2023 2023-12-29  VMN        1     8    34.44        HM   \n",
      "381281     12  52  2023 2023-12-29  VMN        1    11    37.29        HM   \n",
      "381303     12  52  2023 2023-12-29  VMN        1    33    32.20        HM   \n",
      "\n",
      "         z_score  \n",
      "77      3.329447  \n",
      "90      3.486288  \n",
      "97      4.193739  \n",
      "101     3.381171  \n",
      "221     3.374497  \n",
      "...          ...  \n",
      "381271  5.702080  \n",
      "381275  3.863373  \n",
      "381278  3.723217  \n",
      "381281  4.198745  \n",
      "381303  3.349469  \n",
      "\n",
      "[1678 rows x 10 columns]\n"
     ]
    }
   ],
   "source": [
    "from scipy.stats import zscore\n",
    "\n",
    "# Berechne den Z-Score für die Tonnage-Spalte\n",
    "df['z_score'] = zscore(df['Tonnage'])\n",
    "\n",
    "# Definiere eine Schwelle (z. B. |Z| > 3)\n",
    "outliers_zscore = df[abs(df['z_score']) > 3]\n",
    "\n",
    "print(outliers_zscore)\n"
   ]
  },
  {
   "cell_type": "code",
   "execution_count": 17,
   "id": "3719e435-1308-4a5d-b7ce-5025f6215d2d",
   "metadata": {},
   "outputs": [
    {
     "name": "stdout",
     "output_type": "stream",
     "text": [
      "['5,59' '3,23' '5,68' '5,48' '7,84' '4,63' '4,38' '9,50' '24,00' '20,70'\n",
      " '22,30' '17,16' '11,60' '19,10' '15,94' '20,94' '16,94' '11,28' '10,54'\n",
      " '22,76']\n"
     ]
    }
   ],
   "source": [
    "print(df[\"Tonnage\"].unique()[:20])  # Zeigt die ersten 20 einzigartigen Werte\n"
   ]
  },
  {
   "cell_type": "code",
   "execution_count": 19,
   "id": "420d2e2b-7a79-4249-88f4-7cdc0e09a059",
   "metadata": {},
   "outputs": [
    {
     "name": "stdout",
     "output_type": "stream",
     "text": [
      "['5.59' '3.23' '5.68' '5.48' '7.84' '4.63' '4.38' '9.50' '24.00' '20.70'\n",
      " '22.30' '17.16' '11.60' '19.10' '15.94' '20.94' '16.94' '11.28' '10.54'\n",
      " '22.76']\n"
     ]
    }
   ],
   "source": [
    "df[\"Tonnage\"] = df[\"Tonnage\"].str.replace(\",\", \".\")  # Ersetzt Komma durch Punkt\n",
    "print(df[\"Tonnage\"].unique()[:20])  # Zeigt die ersten 20 einzigartigen Werte\n"
   ]
  },
  {
   "cell_type": "code",
   "execution_count": 20,
   "id": "7a51e6b8-397a-4ec6-b136-1acad5a32d2d",
   "metadata": {},
   "outputs": [],
   "source": [
    "df[\"Tonnage\"] = pd.to_numeric(df[\"Tonnage\"], errors=\"coerce\")\n"
   ]
  },
  {
   "cell_type": "code",
   "execution_count": 21,
   "id": "69a05468-2296-4ff2-9563-74e92ffd8a86",
   "metadata": {},
   "outputs": [
    {
     "name": "stdout",
     "output_type": "stream",
     "text": [
      "0\n",
      "float64\n",
      "   Monat  KW  Jahr     Datum  Hof  Schicht  Tour  Tonnage Abfallart\n",
      "0      1   1  2019  02.01.19  VMF        1     1     5.59       BIO\n",
      "1      1   1  2019  02.01.19  VMF        1     4     3.23       BIO\n",
      "2      1   1  2019  02.01.19  VMF        1     5     5.68       BIO\n",
      "3      1   1  2019  02.01.19  VMF        1     6     5.48       BIO\n",
      "4      1   1  2019  02.01.19  VMF        1     7     7.84       BIO\n"
     ]
    }
   ],
   "source": [
    "print(df[\"Tonnage\"].isna().sum())  # Zeigt die Anzahl der NaN-Werte\n",
    "print(df[\"Tonnage\"].dtype)  # Sollte float sein\n",
    "print(df.head())  # Prüfe, ob die Werte jetzt richtig angezeigt werden\n"
   ]
  },
  {
   "cell_type": "code",
   "execution_count": 22,
   "id": "af437e60-68d6-45db-adfc-1f97a2bd3e7c",
   "metadata": {},
   "outputs": [
    {
     "name": "stdout",
     "output_type": "stream",
     "text": [
      "['BIO' 'HM' 'SPM Sammlung']\n"
     ]
    }
   ],
   "source": [
    "print(df[\"Abfallart\"].unique())\n"
   ]
  },
  {
   "cell_type": "code",
   "execution_count": 23,
   "id": "43ea6399-4591-4514-8ca9-0440b1e8dffd",
   "metadata": {},
   "outputs": [
    {
     "name": "stdout",
     "output_type": "stream",
     "text": [
      "   Monat  KW  Jahr     Datum  Hof  Schicht  Tour  Tonnage Abfallart\n",
      "0      1   1  2019  02.01.19  VMF        1     1     5.59       BIO\n",
      "1      1   1  2019  02.01.19  VMF        1     4     3.23       BIO\n",
      "2      1   1  2019  02.01.19  VMF        1     5     5.68       BIO\n",
      "3      1   1  2019  02.01.19  VMF        1     6     5.48       BIO\n",
      "4      1   1  2019  02.01.19  VMF        1     7     7.84       BIO\n",
      "(78948, 9)\n"
     ]
    }
   ],
   "source": [
    "df_bio = df[df[\"Abfallart\"] == \"BIO\"]\n",
    "df_hm = df[df[\"Abfallart\"] == \"HM\"]\n",
    "df_sm = df[df[\"Abfallart\"] == \"HM\"]\n",
    "print(df_bio.head())  # Zeigt die ersten Zeilen mit \"BIO\"\n",
    "print(df_bio.shape)\n",
    "print(df_hm.shape) \n"
   ]
  },
  {
   "cell_type": "code",
   "execution_count": null,
   "id": "10c222ce-080f-4dd9-b983-3795ba44890a",
   "metadata": {},
   "outputs": [],
   "source": []
  },
  {
   "cell_type": "code",
   "execution_count": 24,
   "id": "f9b52c16-8a8a-4a3e-b1d4-05c895d1c8eb",
   "metadata": {},
   "outputs": [
    {
     "name": "stdout",
     "output_type": "stream",
     "text": [
      "float64\n",
      "0    5.59\n",
      "1    3.23\n",
      "2    5.68\n",
      "3    5.48\n",
      "4    7.84\n",
      "Name: Tonnage, dtype: float64\n"
     ]
    }
   ],
   "source": [
    "print(df[\"Tonnage\"].dtype)\n",
    "print(df[\"Tonnage\"].head())  # Zeigt die ersten Werte\n"
   ]
  },
  {
   "cell_type": "code",
   "execution_count": 25,
   "id": "ad7c7695-cbf7-40b4-a39f-649b06f0cf4d",
   "metadata": {},
   "outputs": [
    {
     "name": "stdout",
     "output_type": "stream",
     "text": [
      "Monat\n",
      "1     33915.90\n",
      "2     31097.45\n",
      "3     45449.35\n",
      "4     53535.90\n",
      "5     60159.91\n",
      "6     56751.84\n",
      "7     52032.12\n",
      "8     52294.18\n",
      "9     53980.94\n",
      "10    54258.60\n",
      "11    54432.28\n",
      "12    40730.03\n",
      "Name: Tonnage, dtype: float64\n"
     ]
    }
   ],
   "source": [
    "# Nur Biomüll filtern\n",
    "df_bio = df[df[\"Abfallart\"].str.upper() == \"BIO\"]  # Falls BIO klein oder mit Leerzeichen ist\n",
    "\n",
    "# Gruppierung nach Monat\n",
    "biomüll_pro_monat = df_bio.groupby(\"Monat\")[\"Tonnage\"].sum()\n",
    "\n",
    "# Ausgabe\n",
    "print(biomüll_pro_monat)"
   ]
  },
  {
   "cell_type": "code",
   "execution_count": 26,
   "id": "0aca7db2-7449-4945-b2d9-ecf0d6aefd84",
   "metadata": {},
   "outputs": [
    {
     "data": {
      "image/png": "[encoded data removed]",
      "text/plain": [
       "<Figure size 640x480 with 1 Axes>"
      ]
     },
     "metadata": {},
     "output_type": "display_data"
    }
   ],
   "source": [
    "import matplotlib.pyplot as plt\n",
    "\n",
    "biomüll_pro_monat.plot(kind=\"bar\", title=\"Biomüll pro Monat\")\n",
    "plt.xlabel(\"Monat\")\n",
    "plt.ylabel(\"Tonnage\")\n",
    "plt.show()\n"
   ]
  },
  {
   "cell_type": "code",
   "execution_count": 27,
   "id": "f561d249-5244-443e-b62d-7117e9fff1f4",
   "metadata": {},
   "outputs": [
    {
     "name": "stdout",
     "output_type": "stream",
     "text": [
      "Monat\n",
      "1     33915.90\n",
      "2     31097.45\n",
      "3     45449.35\n",
      "4     53535.90\n",
      "5     60159.91\n",
      "6     56751.84\n",
      "7     52032.12\n",
      "8     52294.18\n",
      "9     53980.94\n",
      "10    54258.60\n",
      "11    54432.28\n",
      "12    40730.03\n",
      "Name: Tonnage, dtype: float64\n"
     ]
    }
   ],
   "source": [
    "# Nur Hausmüll filtern\n",
    "df_hm = df[df[\"Abfallart\"].str.upper() == \"HM\"]  # Falls BIO klein oder mit Leerzeichen ist\n",
    "\n",
    "# Gruppierung nach Monat\n",
    "hausmüll_pro_monat = df_bio.groupby(\"Monat\")[\"Tonnage\"].sum()\n",
    "\n",
    "# Ausgabe\n",
    "print(hausmüll_pro_monat)"
   ]
  },
  {
   "cell_type": "code",
   "execution_count": 28,
   "id": "e8340091-9b30-42c8-95cc-a059f6acfc1a",
   "metadata": {},
   "outputs": [
    {
     "data": {
      "image/png": "[encoded data removed]",
      "text/plain": [
       "<Figure size 640x480 with 1 Axes>"
      ]
     },
     "metadata": {},
     "output_type": "display_data"
    }
   ],
   "source": [
    "import matplotlib.pyplot as plt\n",
    "\n",
    "biomüll_pro_monat.plot(kind=\"bar\", title=\"Hausmüll pro Monat\")\n",
    "plt.xlabel(\"Monat\")\n",
    "plt.ylabel(\"Tonnage\")\n",
    "plt.show()\n"
   ]
  },
  {
   "cell_type": "code",
   "execution_count": 30,
   "id": "cdbc5533-bfba-4b9a-a47f-8a58e5c9a110",
   "metadata": {},
   "outputs": [
    {
     "name": "stdout",
     "output_type": "stream",
     "text": [
      "Monat\n",
      "1     33915.90\n",
      "2     31097.45\n",
      "3     45449.35\n",
      "4     53535.90\n",
      "5     60159.91\n",
      "6     56751.84\n",
      "7     52032.12\n",
      "8     52294.18\n",
      "9     53980.94\n",
      "10    54258.60\n",
      "11    54432.28\n",
      "12    40730.03\n",
      "Name: Tonnage, dtype: float64\n"
     ]
    }
   ],
   "source": [
    "# Nur Sperrmüll filtern\n",
    "df_sm = df[df[\"Abfallart\"] == \"SPM Sammlung\"] \n",
    "\n",
    "# Gruppierung nach Monat\n",
    "sperrmüll_pro_monat = df_bio.groupby(\"Monat\")[\"Tonnage\"].sum()\n",
    "\n",
    "# Ausgabe\n",
    "print(sperrmüll_pro_monat)"
   ]
  },
  {
   "cell_type": "code",
   "execution_count": 31,
   "id": "f4689924-102b-422a-8532-0eb8b727507c",
   "metadata": {},
   "outputs": [
    {
     "name": "stdout",
     "output_type": "stream",
     "text": [
      "BIO: 78948 Zeilen\n",
      "HM: 278814 Zeilen\n",
      "SPM Sammlung: 23899 Zeilen\n"
     ]
    }
   ],
   "source": [
    "df_hm = df[df[\"Abfallart\"] == \"HM\"]\n",
    "df_spm = df[df[\"Abfallart\"] == \"SPM Sammlung\"]\n",
    "\n",
    "print(\"BIO:\", df_bio.shape[0], \"Zeilen\")\n",
    "print(\"HM:\", df_hm.shape[0], \"Zeilen\")\n",
    "print(\"SPM Sammlung:\", df_spm.shape[0], \"Zeilen\")\n"
   ]
  },
  {
   "cell_type": "code",
   "execution_count": 34,
   "id": "9cb1edab-3fa4-41a5-ac60-67bef75a424c",
   "metadata": {},
   "outputs": [
    {
     "data": {
      "image/png": "[encoded data removed]",
      "text/plain": [
       "<Figure size 800x500 with 1 Axes>"
      ]
     },
     "metadata": {},
     "output_type": "display_data"
    }
   ],
   "source": [
    "import matplotlib.pyplot as plt\n",
    "\n",
    "# Daten für das Diagramm\n",
    "abfallarten = [\"BIO\", \"HM\", \"SPM Sammlung\"]\n",
    "anzahl_zeilen = [df_bio.shape[0], df_hm.shape[0], df_spm.shape[0]]\n",
    "\n",
    "# Balkendiagramm erstellen\n",
    "plt.figure(figsize=(8, 5))\n",
    "plt.bar(abfallarten, anzahl_zeilen, color=[\"green\", \"red\", \"blue\"])\n",
    "\n",
    "# Titel und Achsenbeschriftungen\n",
    "plt.title(\"Anzahl der Zeilen pro Abfallart\")\n",
    "plt.xlabel(\"Abfallart\")\n",
    "plt.ylabel(\"Anzahl der Zeilen\")\n",
    "\n",
    "# Werte auf die Balken schreiben\n",
    "for i, v in enumerate(anzahl_zeilen):\n",
    "    plt.text(i, v + 1000, str(v), ha=\"center\", fontsize=12)\n",
    "\n",
    "# Diagramm anzeigen\n",
    "plt.show()\n"
   ]
  },
  {
   "cell_type": "code",
   "execution_count": 36,
   "id": "fbc42392-10a3-4555-aa6e-53049b2e889c",
   "metadata": {},
   "outputs": [
    {
     "name": "stdout",
     "output_type": "stream",
     "text": [
      "['VMF' 'VMG' 'VMM' 'VMN' 'VMWSF' 'VMWSN' 'VMWSM']\n"
     ]
    }
   ],
   "source": [
    "print(df[\"Hof\"].unique())"
   ]
  },
  {
   "cell_type": "code",
   "execution_count": 35,
   "id": "8fcc80fd-77b5-4acc-a754-d339537a8eae",
   "metadata": {},
   "outputs": [
    {
     "name": "stdout",
     "output_type": "stream",
     "text": [
      "Abfallart        BIO         HM  SPM Sammlung\n",
      "Hof                                          \n",
      "VMF        12.890644  87.109356           0.0\n",
      "VMG        13.541820  86.458180           0.0\n",
      "VMM        11.375777  88.624223           0.0\n",
      "VMN        13.571717  86.428283           0.0\n",
      "VMWSF       0.000000   0.000000         100.0\n"
     ]
    }
   ],
   "source": [
    "import pandas as pd\n",
    "import matplotlib.pyplot as plt\n",
    "\n",
    "# Sicherstellen, dass die Spalte \"Tonnage\" numerisch ist\n",
    "df[\"Tonnage\"] = pd.to_numeric(df[\"Tonnage\"], errors=\"coerce\")\n",
    "\n",
    "# Gruppieren nach Hof und Abfallart und Summe der Tonnage berechnen\n",
    "df_grouped = df.groupby([\"Hof\", \"Abfallart\"])[\"Tonnage\"].sum().unstack()\n",
    "\n",
    "# Fehlende Werte mit 0 ersetzen\n",
    "df_grouped = df_grouped.fillna(0)\n",
    "\n",
    "# Pro Hof den prozentualen Anteil berechnen\n",
    "df_percent = df_grouped.div(df_grouped.sum(axis=1), axis=0) * 100\n",
    "\n",
    "# Anzeigen der ersten Zeilen\n",
    "print(df_percent.head())\n"
   ]
  },
  {
   "cell_type": "code",
   "execution_count": null,
   "id": "881b3c2b-93d3-4d10-8011-2e4a138b1584",
   "metadata": {},
   "outputs": [],
   "source": []
  }
 ],
 "metadata": {
  "kernelspec": {
   "display_name": "Python 3 (ipykernel)",
   "language": "python",
   "name": "python3"
  },
  "language_info": {
   "codemirror_mode": {
    "name": "ipython",
    "version": 3
   },
   "file_extension": ".py",
   "mimetype": "text/x-python",
   "name": "python",
   "nbconvert_exporter": "python",
   "pygments_lexer": "ipython3",
   "version": "3.11.6"
  }
 },
 "nbformat": 4,
 "nbformat_minor": 5
}
