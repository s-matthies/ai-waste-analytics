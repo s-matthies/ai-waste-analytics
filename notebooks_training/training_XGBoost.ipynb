{
 "cells": [
  {
   "cell_type": "code",
   "execution_count": 2,
   "id": "db99bf22-e376-4dbb-bbe1-90af7827a2d8",
   "metadata": {},
   "outputs": [
    {
     "data": {
      "text/html": [
       "<div>\n",
       "<style scoped>\n",
       "    .dataframe tbody tr th:only-of-type {\n",
       "        vertical-align: middle;\n",
       "    }\n",
       "\n",
       "    .dataframe tbody tr th {\n",
       "        vertical-align: top;\n",
       "    }\n",
       "\n",
       "    .dataframe thead th {\n",
       "        text-align: right;\n",
       "    }\n",
       "</style>\n",
       "<table border=\"1\" class=\"dataframe\">\n",
       "  <thead>\n",
       "    <tr style=\"text-align: right;\">\n",
       "      <th></th>\n",
       "      <th>Schicht</th>\n",
       "      <th>Tour</th>\n",
       "      <th>Tonnage</th>\n",
       "      <th>Temperature_Max (°C)</th>\n",
       "      <th>Rain_Sum (mm)</th>\n",
       "      <th>Snowfall_Sum (cm)</th>\n",
       "      <th>Wind_Speed_Max (km/h)</th>\n",
       "      <th>Daylight_Duration (s)</th>\n",
       "      <th>Temperature_Max (°C) 3-Day Avg</th>\n",
       "      <th>Rain_Sum (mm) 3-Day Avg</th>\n",
       "      <th>...</th>\n",
       "      <th>Feiertag_Pfingstmontag_shift_1</th>\n",
       "      <th>Feiertag_Pfingstmontag_shift_2</th>\n",
       "      <th>Feiertag_Tag der Arbeit_shift_1</th>\n",
       "      <th>Feiertag_Tag der Arbeit_shift_2</th>\n",
       "      <th>Feiertag_Tag der Befreiung_shift_1</th>\n",
       "      <th>Feiertag_Tag der Befreiung_shift_2</th>\n",
       "      <th>Feiertag_Tag der Deutschen Einheit_shift_1</th>\n",
       "      <th>Feiertag_Tag der Deutschen Einheit_shift_2</th>\n",
       "      <th>Feiertag_Zweiter Weihnachtstag_shift_1</th>\n",
       "      <th>Feiertag_Zweiter Weihnachtstag_shift_2</th>\n",
       "    </tr>\n",
       "  </thead>\n",
       "  <tbody>\n",
       "    <tr>\n",
       "      <th>381656</th>\n",
       "      <td>1</td>\n",
       "      <td>5508</td>\n",
       "      <td>2.90</td>\n",
       "      <td>8.5</td>\n",
       "      <td>2.6</td>\n",
       "      <td>0.0</td>\n",
       "      <td>29.8</td>\n",
       "      <td>27757.76</td>\n",
       "      <td>9.8</td>\n",
       "      <td>3.166667</td>\n",
       "      <td>...</td>\n",
       "      <td>0.0</td>\n",
       "      <td>0.0</td>\n",
       "      <td>0.0</td>\n",
       "      <td>0.0</td>\n",
       "      <td>0.0</td>\n",
       "      <td>0.0</td>\n",
       "      <td>0.0</td>\n",
       "      <td>0.0</td>\n",
       "      <td>0.0</td>\n",
       "      <td>0.0</td>\n",
       "    </tr>\n",
       "    <tr>\n",
       "      <th>381657</th>\n",
       "      <td>1</td>\n",
       "      <td>2101</td>\n",
       "      <td>7.86</td>\n",
       "      <td>8.5</td>\n",
       "      <td>2.6</td>\n",
       "      <td>0.0</td>\n",
       "      <td>29.8</td>\n",
       "      <td>27757.76</td>\n",
       "      <td>9.8</td>\n",
       "      <td>3.166667</td>\n",
       "      <td>...</td>\n",
       "      <td>0.0</td>\n",
       "      <td>0.0</td>\n",
       "      <td>0.0</td>\n",
       "      <td>0.0</td>\n",
       "      <td>0.0</td>\n",
       "      <td>0.0</td>\n",
       "      <td>0.0</td>\n",
       "      <td>0.0</td>\n",
       "      <td>0.0</td>\n",
       "      <td>0.0</td>\n",
       "    </tr>\n",
       "    <tr>\n",
       "      <th>381658</th>\n",
       "      <td>1</td>\n",
       "      <td>2102</td>\n",
       "      <td>1.81</td>\n",
       "      <td>8.5</td>\n",
       "      <td>2.6</td>\n",
       "      <td>0.0</td>\n",
       "      <td>29.8</td>\n",
       "      <td>27757.76</td>\n",
       "      <td>9.8</td>\n",
       "      <td>3.166667</td>\n",
       "      <td>...</td>\n",
       "      <td>0.0</td>\n",
       "      <td>0.0</td>\n",
       "      <td>0.0</td>\n",
       "      <td>0.0</td>\n",
       "      <td>0.0</td>\n",
       "      <td>0.0</td>\n",
       "      <td>0.0</td>\n",
       "      <td>0.0</td>\n",
       "      <td>0.0</td>\n",
       "      <td>0.0</td>\n",
       "    </tr>\n",
       "    <tr>\n",
       "      <th>381659</th>\n",
       "      <td>1</td>\n",
       "      <td>3301</td>\n",
       "      <td>0.35</td>\n",
       "      <td>8.5</td>\n",
       "      <td>2.6</td>\n",
       "      <td>0.0</td>\n",
       "      <td>29.8</td>\n",
       "      <td>27757.76</td>\n",
       "      <td>9.8</td>\n",
       "      <td>3.166667</td>\n",
       "      <td>...</td>\n",
       "      <td>0.0</td>\n",
       "      <td>0.0</td>\n",
       "      <td>0.0</td>\n",
       "      <td>0.0</td>\n",
       "      <td>0.0</td>\n",
       "      <td>0.0</td>\n",
       "      <td>0.0</td>\n",
       "      <td>0.0</td>\n",
       "      <td>0.0</td>\n",
       "      <td>0.0</td>\n",
       "    </tr>\n",
       "    <tr>\n",
       "      <th>381660</th>\n",
       "      <td>1</td>\n",
       "      <td>3302</td>\n",
       "      <td>4.13</td>\n",
       "      <td>8.5</td>\n",
       "      <td>2.6</td>\n",
       "      <td>0.0</td>\n",
       "      <td>29.8</td>\n",
       "      <td>27757.76</td>\n",
       "      <td>9.8</td>\n",
       "      <td>3.166667</td>\n",
       "      <td>...</td>\n",
       "      <td>0.0</td>\n",
       "      <td>0.0</td>\n",
       "      <td>0.0</td>\n",
       "      <td>0.0</td>\n",
       "      <td>0.0</td>\n",
       "      <td>0.0</td>\n",
       "      <td>0.0</td>\n",
       "      <td>0.0</td>\n",
       "      <td>0.0</td>\n",
       "      <td>0.0</td>\n",
       "    </tr>\n",
       "  </tbody>\n",
       "</table>\n",
       "<p>5 rows × 91 columns</p>\n",
       "</div>"
      ],
      "text/plain": [
       "        Schicht  Tour  Tonnage  Temperature_Max (°C)  Rain_Sum (mm)  \\\n",
       "381656        1  5508     2.90                   8.5            2.6   \n",
       "381657        1  2101     7.86                   8.5            2.6   \n",
       "381658        1  2102     1.81                   8.5            2.6   \n",
       "381659        1  3301     0.35                   8.5            2.6   \n",
       "381660        1  3302     4.13                   8.5            2.6   \n",
       "\n",
       "        Snowfall_Sum (cm)  Wind_Speed_Max (km/h)  Daylight_Duration (s)  \\\n",
       "381656                0.0                   29.8               27757.76   \n",
       "381657                0.0                   29.8               27757.76   \n",
       "381658                0.0                   29.8               27757.76   \n",
       "381659                0.0                   29.8               27757.76   \n",
       "381660                0.0                   29.8               27757.76   \n",
       "\n",
       "        Temperature_Max (°C) 3-Day Avg  Rain_Sum (mm) 3-Day Avg  ...  \\\n",
       "381656                             9.8                 3.166667  ...   \n",
       "381657                             9.8                 3.166667  ...   \n",
       "381658                             9.8                 3.166667  ...   \n",
       "381659                             9.8                 3.166667  ...   \n",
       "381660                             9.8                 3.166667  ...   \n",
       "\n",
       "        Feiertag_Pfingstmontag_shift_1  Feiertag_Pfingstmontag_shift_2  \\\n",
       "381656                             0.0                             0.0   \n",
       "381657                             0.0                             0.0   \n",
       "381658                             0.0                             0.0   \n",
       "381659                             0.0                             0.0   \n",
       "381660                             0.0                             0.0   \n",
       "\n",
       "        Feiertag_Tag der Arbeit_shift_1  Feiertag_Tag der Arbeit_shift_2  \\\n",
       "381656                              0.0                              0.0   \n",
       "381657                              0.0                              0.0   \n",
       "381658                              0.0                              0.0   \n",
       "381659                              0.0                              0.0   \n",
       "381660                              0.0                              0.0   \n",
       "\n",
       "        Feiertag_Tag der Befreiung_shift_1  \\\n",
       "381656                                 0.0   \n",
       "381657                                 0.0   \n",
       "381658                                 0.0   \n",
       "381659                                 0.0   \n",
       "381660                                 0.0   \n",
       "\n",
       "        Feiertag_Tag der Befreiung_shift_2  \\\n",
       "381656                                 0.0   \n",
       "381657                                 0.0   \n",
       "381658                                 0.0   \n",
       "381659                                 0.0   \n",
       "381660                                 0.0   \n",
       "\n",
       "        Feiertag_Tag der Deutschen Einheit_shift_1  \\\n",
       "381656                                         0.0   \n",
       "381657                                         0.0   \n",
       "381658                                         0.0   \n",
       "381659                                         0.0   \n",
       "381660                                         0.0   \n",
       "\n",
       "        Feiertag_Tag der Deutschen Einheit_shift_2  \\\n",
       "381656                                         0.0   \n",
       "381657                                         0.0   \n",
       "381658                                         0.0   \n",
       "381659                                         0.0   \n",
       "381660                                         0.0   \n",
       "\n",
       "        Feiertag_Zweiter Weihnachtstag_shift_1  \\\n",
       "381656                                     0.0   \n",
       "381657                                     0.0   \n",
       "381658                                     0.0   \n",
       "381659                                     0.0   \n",
       "381660                                     0.0   \n",
       "\n",
       "        Feiertag_Zweiter Weihnachtstag_shift_2  \n",
       "381656                                     0.0  \n",
       "381657                                     0.0  \n",
       "381658                                     0.0  \n",
       "381659                                     0.0  \n",
       "381660                                     0.0  \n",
       "\n",
       "[5 rows x 91 columns]"
      ]
     },
     "execution_count": 2,
     "metadata": {},
     "output_type": "execute_result"
    }
   ],
   "source": [
    "import pandas as pd\n",
    "import os\n",
    "\n",
    "file_path = os.path.join( \"..\", \"Daten\",  \"Merged_BSR_24Uhr.csv\")\n",
    "\n",
    "df = pd.read_csv(file_path)  \n",
    "df.tail()"
   ]
  },
  {
   "cell_type": "code",
   "execution_count": 3,
   "id": "c350e367-2e8f-44db-9707-c754638900ed",
   "metadata": {},
   "outputs": [],
   "source": [
    "#inflation droppen\n",
    "df.drop(['   Brot', 'Fleisch', '    Fisch', '    Molkerei-Eier', '    Speisefette-öle', '    Obst', '    Gemüse',\n",
    "         '    Zucker, Marmelade, Honig', '    Fertigerichte', '  Kaffee-Tee', '    Wasser-Saft'], axis=1, inplace=True)"
   ]
  },
  {
   "cell_type": "code",
   "execution_count": 4,
   "id": "511cfe30-cb5b-4929-adc1-9d14050f40cd",
   "metadata": {},
   "outputs": [],
   "source": [
    "X = df.drop(columns=['Tonnage'])  # Features (alle Spalten außer Ziel)\n",
    "y = df['Tonnage']  # Zielvariable\n",
    "\n",
    "\n"
   ]
  },
  {
   "cell_type": "code",
   "execution_count": 5,
   "id": "f33d6cff-3e70-4ab0-ac5d-cf4a32dfc576",
   "metadata": {},
   "outputs": [
    {
     "name": "stdout",
     "output_type": "stream",
     "text": [
      "Train: (223715, 79), Test: (79232, 79), Validation: (78714, 79)\n"
     ]
    }
   ],
   "source": [
    "# Trainingsdaten: 2019, 2020, 2021\n",
    "X_train = X[X[\"year\"].isin([2019, 2020, 2021])]\n",
    "y_train = y[X[\"year\"].isin([2019, 2020, 2021])]\n",
    "\n",
    "# Testdaten: 2022\n",
    "X_test = X[X[\"year\"] == 2022]\n",
    "y_test = y[X[\"year\"] == 2022]\n",
    "\n",
    "# Validierungsdaten: 2023\n",
    "X_val = X[X[\"year\"] == 2023]\n",
    "y_val = y[X[\"year\"] == 2023]\n",
    "\n",
    "\n",
    "print(f\"Train: {X_train.shape}, Test: {X_test.shape}, Validation: {X_val.shape}\")\n",
    "\n"
   ]
  },
  {
   "cell_type": "code",
   "execution_count": null,
   "id": "ee67891f-da5b-4e63-ba97-fec0469e20f1",
   "metadata": {},
   "outputs": [],
   "source": []
  },
  {
   "cell_type": "code",
   "execution_count": 6,
   "id": "59b739c0-2eaa-455d-9b13-64e44640c84f",
   "metadata": {},
   "outputs": [
    {
     "name": "stdout",
     "output_type": "stream",
     "text": [
      "MAE für Testjahr 2022: 2.4408846228010623\n",
      "MAE für Validierungsjahr 2023: 2.757641239154833\n"
     ]
    }
   ],
   "source": [
    "import xgboost as xgb\n",
    "from sklearn.metrics import mean_absolute_error\n",
    "\n",
    "# XGBoost Modell initialisieren\n",
    "model = xgb.XGBRegressor(objective=\"reg:squarederror\", n_estimators=100)\n",
    "\n",
    "# Modell mit Trainingsdaten trainieren\n",
    "model.fit(X_train.drop(columns=['year']), y_train)  # 'year' als Feature entfernen\n",
    "\n",
    "# Vorhersagen für das Testjahr 2022\n",
    "y_pred_test = model.predict(X_test.drop(columns=['year']))\n",
    "test_error = mean_absolute_error(y_test, y_pred_test)\n",
    "print(f\"MAE für Testjahr 2022: {test_error}\")\n",
    "\n",
    "# Vorhersagen für das Validierungsjahr 2023\n",
    "y_pred_val = model.predict(X_val.drop(columns=['year']))\n",
    "val_error = mean_absolute_error(y_val, y_pred_val)\n",
    "print(f\"MAE für Validierungsjahr 2023: {val_error}\")\n"
   ]
  },
  {
   "cell_type": "code",
   "execution_count": 7,
   "id": "ed6677d2-1e74-407e-8dcb-cb74df73430b",
   "metadata": {},
   "outputs": [
    {
     "name": "stdout",
     "output_type": "stream",
     "text": [
      "MSE für Testjahr 2022: 10.330207193674157\n",
      "MSE für Validierungsjahr 2023: 13.969527609591209\n"
     ]
    }
   ],
   "source": [
    "from sklearn.metrics import mean_squared_error\n",
    "mse_test = mean_squared_error(y_test, y_pred_test)\n",
    "mse_val = mean_squared_error(y_val, y_pred_val)\n",
    "print(f\"MSE für Testjahr 2022: {mse_test}\")\n",
    "print(f\"MSE für Validierungsjahr 2023: {mse_val}\")"
   ]
  },
  {
   "cell_type": "code",
   "execution_count": 8,
   "id": "b5760ef5-9d52-4dd7-bf20-9191e1435b18",
   "metadata": {},
   "outputs": [
    {
     "name": "stdout",
     "output_type": "stream",
     "text": [
      "RMSE für Testjahr 2022: 3.2140639685099854\n",
      "RMSE für Validierungsjahr 2023: 3.7375831241045607\n"
     ]
    },
    {
     "name": "stderr",
     "output_type": "stream",
     "text": [
      "/Users/blongsch/ikt/lib/python3.11/site-packages/sklearn/metrics/_regression.py:492: FutureWarning: 'squared' is deprecated in version 1.4 and will be removed in 1.6. To calculate the root mean squared error, use the function'root_mean_squared_error'.\n",
      "  warnings.warn(\n",
      "/Users/blongsch/ikt/lib/python3.11/site-packages/sklearn/metrics/_regression.py:492: FutureWarning: 'squared' is deprecated in version 1.4 and will be removed in 1.6. To calculate the root mean squared error, use the function'root_mean_squared_error'.\n",
      "  warnings.warn(\n"
     ]
    }
   ],
   "source": [
    "rmse_test = mean_squared_error(y_test, y_pred_test, squared=False)\n",
    "rmse_val = mean_squared_error(y_val, y_pred_val, squared=False)\n",
    "print(f\"RMSE für Testjahr 2022: {rmse_test}\")\n",
    "print(f\"RMSE für Validierungsjahr 2023: {rmse_val}\")\n"
   ]
  },
  {
   "cell_type": "code",
   "execution_count": 9,
   "id": "7007cd42-3733-4429-9d89-ee0f7f928e0e",
   "metadata": {},
   "outputs": [
    {
     "data": {
      "image/png": "[encoded data removed]",
      "text/plain": [
       "<Figure size 640x480 with 1 Axes>"
      ]
     },
     "metadata": {},
     "output_type": "display_data"
    }
   ],
   "source": [
    "import matplotlib.pyplot as plt\n",
    "\n",
    "# Feature Importance plotten\n",
    "xgb.plot_importance(model, importance_type=\"weight\", max_num_features=10)\n",
    "plt.show()\n"
   ]
  },
  {
   "cell_type": "markdown",
   "id": "4edc330c-bc97-44de-a777-ef1428403c5d",
   "metadata": {},
   "source": [
    "**HyperparameterTuning**\n",
    "\n",
    "1. n_estimators (Anzahl der Bäume)\n",
    "\n",
    "    Werte: [100, 200, 300]\n",
    "    Gibt an, wie viele Entscheidungsbäume das Modell verwendet.\n",
    "    Höhere Werte können die Modellleistung verbessern, erhöhen aber auch die Trainingszeit.\n",
    "\n",
    "2. learning_rate (Lernrate)\n",
    "\n",
    "    Werte: [0.01, 0.05, 0.1]\n",
    "    Kontrolliert, wie stark das Modell bei jedem Schritt die Fehler reduziert.\n",
    "    Niedrige Werte (z. B. 0.01) führen zu einem langsameren, aber oft besseren Training.\n",
    "    Höhere Werte (z. B. 0.1) führen zu schnellerem Lernen, bergen aber die Gefahr des Overfittings.\n",
    "\n",
    "3. max_depth (Maximale Tiefe der Bäume)\n",
    "\n",
    "    Werte: [3, 5, 7]\n",
    "    Bestimmt, wie tief einzelne Entscheidungsbäume wachsen dürfen.\n",
    "    Tiefere Bäume können komplexere Muster lernen, aber auch zu Overfitting führen.\n",
    "\n",
    "4. subsample (Stichprobenrate für jede Iteration)\n",
    "\n",
    "    Werte: [0.8, 0.9, 1.0]\n",
    "    Gibt an, welcher Prozentsatz der Daten für jeden Baum verwendet wird.\n",
    "    1.0 bedeutet, dass alle Daten verwendet werden (kein Bagging).\n",
    "    Kleinere Werte (z. B. 0.8) helfen, Overfitting zu reduzieren.\n",
    "\n",
    "5. colsample_bytree (Feature-Sampling)\n",
    "\n",
    "    Werte: [0.8, 0.9, 1.0]\n",
    "    Bestimmt, wie viele Features zufällig für den Aufbau jedes Baums ausgewählt werden.\n",
    "    1.0 bedeutet, dass alle Features verwendet werden.\n",
    "    Kleinere Werte (z. B. 0.8) können helfen, Overfitting zu reduzieren."
   ]
  },
  {
   "cell_type": "code",
   "execution_count": 10,
   "id": "c046c170-e722-4447-bcfe-a91b61c179a3",
   "metadata": {},
   "outputs": [
    {
     "name": "stdout",
     "output_type": "stream",
     "text": [
      "Beste Parameter:  {'colsample_bytree': 0.9, 'learning_rate': 0.1, 'max_depth': 7, 'n_estimators': 300, 'subsample': 1.0}\n",
      "Beste Genauigkeit:  -9.41852686968144\n"
     ]
    }
   ],
   "source": [
    "from sklearn.model_selection import GridSearchCV\n",
    "import xgboost as xgb\n",
    "\n",
    "# Beispielmodell\n",
    "model = xgb.XGBRegressor()\n",
    "\n",
    "# Definiere den Parameterraum\n",
    "param_grid = {\n",
    "    'n_estimators': [100, 200, 300],\n",
    "    'learning_rate': [0.01, 0.05, 0.1],\n",
    "    'max_depth': [3, 5, 7],\n",
    "    'subsample': [0.8, 0.9, 1.0],\n",
    "    'colsample_bytree': [0.8, 0.9, 1.0]\n",
    "}\n",
    "\n",
    "# Grid Search durchführen\n",
    "grid_search = GridSearchCV(estimator=model, param_grid=param_grid, scoring='neg_mean_squared_error', cv=3)\n",
    "grid_search.fit(X_train, y_train)\n",
    "\n",
    "# Beste Parameter und Modell\n",
    "print(\"Beste Parameter: \", grid_search.best_params_)\n",
    "print(\"Beste Genauigkeit: \", grid_search.best_score_)"
   ]
  },
  {
   "cell_type": "code",
   "execution_count": 11,
   "id": "516ea894-626f-423e-aa58-cc8bff4cd020",
   "metadata": {},
   "outputs": [
    {
     "name": "stdout",
     "output_type": "stream",
     "text": [
      "MSE nach dem Tuning: 9.567251567169201\n",
      "RMSE nach dem Tuning: 3.0930974066733175\n"
     ]
    }
   ],
   "source": [
    "from sklearn.metrics import mean_squared_error\n",
    "import numpy as np\n",
    "\n",
    "# Vorhersagen mit dem besten Modell\n",
    "y_pred = grid_search.best_estimator_.predict(X_test)  # X_test sind deine Testdaten\n",
    "\n",
    "# Berechnung des MSE\n",
    "mse = mean_squared_error(y_test, y_pred)  # y_test sind die tatsächlichen Zielwerte\n",
    "print(\"MSE nach dem Tuning:\", mse)\n",
    "\n",
    "# Berechnung des RMSE\n",
    "rmse = np.sqrt(mse)\n",
    "print(\"RMSE nach dem Tuning:\", rmse)\n"
   ]
  },
  {
   "cell_type": "code",
   "execution_count": null,
   "id": "35e33e9f-785f-417b-ac72-4859023f5184",
   "metadata": {},
   "outputs": [],
   "source": []
  }
 ],
 "metadata": {
  "kernelspec": {
   "display_name": "Python 3 (ipykernel)",
   "language": "python",
   "name": "python3"
  },
  "language_info": {
   "codemirror_mode": {
    "name": "ipython",
    "version": 3
   },
   "file_extension": ".py",
   "mimetype": "text/x-python",
   "name": "python",
   "nbconvert_exporter": "python",
   "pygments_lexer": "ipython3",
   "version": "3.11.6"
  }
 },
 "nbformat": 4,
 "nbformat_minor": 5
}
