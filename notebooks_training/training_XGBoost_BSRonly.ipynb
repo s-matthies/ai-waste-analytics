{
 "cells": [
  {
   "cell_type": "markdown",
   "id": "dc2f2dc9-8cde-4acf-b8f5-d4027e8e83de",
   "metadata": {},
   "source": [
    "## XGBoost Modelltraining auf bereinigtem BSR-Datensatz"
   ]
  },
  {
   "cell_type": "code",
   "execution_count": 46,
   "id": "24f407fd-8cb2-47df-9854-dc7fec0b142d",
   "metadata": {},
   "outputs": [
    {
     "data": {
      "text/html": [
       "<div>\n",
       "<style scoped>\n",
       "    .dataframe tbody tr th:only-of-type {\n",
       "        vertical-align: middle;\n",
       "    }\n",
       "\n",
       "    .dataframe tbody tr th {\n",
       "        vertical-align: top;\n",
       "    }\n",
       "\n",
       "    .dataframe thead th {\n",
       "        text-align: right;\n",
       "    }\n",
       "</style>\n",
       "<table border=\"1\" class=\"dataframe\">\n",
       "  <thead>\n",
       "    <tr style=\"text-align: right;\">\n",
       "      <th></th>\n",
       "      <th>Monat</th>\n",
       "      <th>KW</th>\n",
       "      <th>Jahr</th>\n",
       "      <th>Schicht</th>\n",
       "      <th>Tour</th>\n",
       "      <th>Tonnage</th>\n",
       "      <th>Abfallart_BIO</th>\n",
       "      <th>Abfallart_HM</th>\n",
       "      <th>Abfallart_SPM Sammlung</th>\n",
       "      <th>Tag</th>\n",
       "      <th>Hof_VMF</th>\n",
       "      <th>Hof_VMG</th>\n",
       "      <th>Hof_VMM</th>\n",
       "      <th>Hof_VMN</th>\n",
       "      <th>Hof_VMWSF</th>\n",
       "      <th>Hof_VMWSM</th>\n",
       "      <th>Hof_VMWSN</th>\n",
       "    </tr>\n",
       "  </thead>\n",
       "  <tbody>\n",
       "    <tr>\n",
       "      <th>0</th>\n",
       "      <td>1</td>\n",
       "      <td>1</td>\n",
       "      <td>2019</td>\n",
       "      <td>1</td>\n",
       "      <td>1</td>\n",
       "      <td>5.59</td>\n",
       "      <td>1</td>\n",
       "      <td>0</td>\n",
       "      <td>0</td>\n",
       "      <td>2</td>\n",
       "      <td>1</td>\n",
       "      <td>0</td>\n",
       "      <td>0</td>\n",
       "      <td>0</td>\n",
       "      <td>0</td>\n",
       "      <td>0</td>\n",
       "      <td>0</td>\n",
       "    </tr>\n",
       "    <tr>\n",
       "      <th>1</th>\n",
       "      <td>1</td>\n",
       "      <td>1</td>\n",
       "      <td>2019</td>\n",
       "      <td>1</td>\n",
       "      <td>4</td>\n",
       "      <td>3.23</td>\n",
       "      <td>1</td>\n",
       "      <td>0</td>\n",
       "      <td>0</td>\n",
       "      <td>2</td>\n",
       "      <td>1</td>\n",
       "      <td>0</td>\n",
       "      <td>0</td>\n",
       "      <td>0</td>\n",
       "      <td>0</td>\n",
       "      <td>0</td>\n",
       "      <td>0</td>\n",
       "    </tr>\n",
       "    <tr>\n",
       "      <th>2</th>\n",
       "      <td>1</td>\n",
       "      <td>1</td>\n",
       "      <td>2019</td>\n",
       "      <td>1</td>\n",
       "      <td>5</td>\n",
       "      <td>5.68</td>\n",
       "      <td>1</td>\n",
       "      <td>0</td>\n",
       "      <td>0</td>\n",
       "      <td>2</td>\n",
       "      <td>1</td>\n",
       "      <td>0</td>\n",
       "      <td>0</td>\n",
       "      <td>0</td>\n",
       "      <td>0</td>\n",
       "      <td>0</td>\n",
       "      <td>0</td>\n",
       "    </tr>\n",
       "  </tbody>\n",
       "</table>\n",
       "</div>"
      ],
      "text/plain": [
       "   Monat  KW  Jahr  Schicht  Tour  Tonnage  Abfallart_BIO  Abfallart_HM  \\\n",
       "0      1   1  2019        1     1     5.59              1             0   \n",
       "1      1   1  2019        1     4     3.23              1             0   \n",
       "2      1   1  2019        1     5     5.68              1             0   \n",
       "\n",
       "   Abfallart_SPM Sammlung  Tag  Hof_VMF  Hof_VMG  Hof_VMM  Hof_VMN  Hof_VMWSF  \\\n",
       "0                       0    2        1        0        0        0          0   \n",
       "1                       0    2        1        0        0        0          0   \n",
       "2                       0    2        1        0        0        0          0   \n",
       "\n",
       "   Hof_VMWSM  Hof_VMWSN  \n",
       "0          0          0  \n",
       "1          0          0  \n",
       "2          0          0  "
      ]
     },
     "execution_count": 46,
     "metadata": {},
     "output_type": "execute_result"
    }
   ],
   "source": [
    "import pandas as pd\n",
    "import os\n",
    "\n",
    "file_path = os.path.join( \"..\", \"Daten\",  \"BSR_data_for_training.csv\")\n",
    "\n",
    "df = pd.read_csv(file_path) \n",
    "df.head(3)"
   ]
  },
  {
   "cell_type": "markdown",
   "id": "2273fa8c-7ff5-4088-a227-d7ff8c49393e",
   "metadata": {},
   "source": [
    "-----------------------------\n",
    "**Zielvariable extrahieren**"
   ]
  },
  {
   "cell_type": "code",
   "execution_count": 47,
   "id": "d7aa78be-c4ba-4faf-b187-fa5add92402f",
   "metadata": {},
   "outputs": [],
   "source": [
    "X = df.drop(columns=['Tonnage'])  # Features (alle Spalten außer Ziel)\n",
    "y = df['Tonnage']  # Zielvariable"
   ]
  },
  {
   "cell_type": "markdown",
   "id": "ad650164-0df5-4388-bff3-c79a4a86fcf1",
   "metadata": {},
   "source": [
    "-----------------------------\n",
    "**Daten splitten**"
   ]
  },
  {
   "cell_type": "code",
   "execution_count": 48,
   "id": "6d4e8a25-6014-49c5-a44f-bf3fa104a449",
   "metadata": {},
   "outputs": [
    {
     "name": "stdout",
     "output_type": "stream",
     "text": [
      "Train: (223715, 16), Validation: (79232, 16), Test: (78714, 16), \n"
     ]
    }
   ],
   "source": [
    "# Trainingsdaten: 2019, 2020, 2021\n",
    "X_train = X[X[\"Jahr\"].isin([2019, 2020, 2021])]\n",
    "y_train = y[X[\"Jahr\"].isin([2019, 2020, 2021])]\n",
    "\n",
    "# Validierungsdaten: 2022\n",
    "X_val = X[X[\"Jahr\"] == 2022]\n",
    "y_val = y[X[\"Jahr\"] == 2022]\n",
    "\n",
    "# Testdaten: 2023\n",
    "X_test = X[X[\"Jahr\"] == 2023]\n",
    "y_test = y[X[\"Jahr\"] == 2023]\n",
    "\n",
    "\n",
    "\n",
    "print(f\"Train: {X_train.shape}, Validation: {X_val.shape}, Test: {X_test.shape}, \")"
   ]
  },
  {
   "cell_type": "markdown",
   "id": "6f9d5db5-38dc-4e57-b64f-98dfbfc0e027",
   "metadata": {},
   "source": [
    "-----------------------------\n",
    "**TRAINING**"
   ]
  },
  {
   "cell_type": "code",
   "execution_count": 49,
   "id": "587c4231-b18b-423d-8913-0491bb417c56",
   "metadata": {},
   "outputs": [
    {
     "name": "stdout",
     "output_type": "stream",
     "text": [
      "Trainingszeit: 0.41 Sekunden\n",
      "Mean Absolute Error (MAE): 3.2580\n",
      "Root Mean Squared Error (RMSE): 4.1583\n",
      "R²-Score: 0.4912\n",
      "MAE für Testjahr 2023: 3.6139154411583334\n",
      "Root Mean Squared Error (RMSE) für Testjahr 2023: 4.5231\n",
      "R²-Score für Testjahr 2023: 0.2256\n"
     ]
    }
   ],
   "source": [
    "import xgboost as xgb\n",
    "from sklearn.metrics import mean_absolute_error, r2_score, mean_squared_error\n",
    "import time  # Importiere time, um die Zeit zu messen\n",
    "import numpy as np  # Für die Quadratwurzelberechnung\n",
    "\n",
    "# XGBoost Modell initialisieren\n",
    "model = xgb.XGBRegressor(objective=\"reg:squarederror\", n_estimators=100)\n",
    "\n",
    "# Startzeit vor dem Training speichern\n",
    "start_time = time.time()\n",
    "\n",
    "# Modell mit Trainingsdaten (2019-2021) trainieren\n",
    "model.fit(X_train.drop(columns=['Jahr']), y_train)  # 'Jahr' als Feature entfernen\n",
    "\n",
    "# Endzeit nach dem Training speichern\n",
    "end_time = time.time()\n",
    "\n",
    "# Trainingszeit berechnen\n",
    "train_time = end_time - start_time\n",
    "print(f\"Trainingszeit: {train_time:.2f} Sekunden\")\n",
    "\n",
    "# Vorhersagen für das Validierungsjahr 2022\n",
    "y_pred_val = model.predict(X_val.drop(columns=['Jahr']))\n",
    "\n",
    "# Berechnung der Fehlermaße\n",
    "mae = mean_absolute_error(y_val, y_pred_val)\n",
    "r2 = r2_score(y_val, y_pred_val)\n",
    "rmse = np.sqrt(mean_squared_error(y_val, y_pred_val))\n",
    "\n",
    "# Ergebnisse ausgeben\n",
    "print(f\"Mean Absolute Error (MAE): {mae:.4f}\")\n",
    "print(f\"Root Mean Squared Error (RMSE): {rmse:.4f}\")\n",
    "print(f\"R²-Score: {r2:.4f}\")\n",
    "\n",
    "\n",
    "# Nach der Optimierung (z.B. Hyperparameter angepasst) - finale Evaluierung auf Testdaten (2022)\n",
    "y_pred_test = model.predict(X_test.drop(columns=['Jahr']))\n",
    "test_error = mean_absolute_error(y_test, y_pred_test)\n",
    "r2 = r2_score(y_test, y_pred_test)\n",
    "rmse = np.sqrt(mean_squared_error(y_test, y_pred_test))\n",
    "print(f\"MAE für Testjahr 2023: {test_error}\")\n",
    "print(f\"Root Mean Squared Error (RMSE) für Testjahr 2023: {rmse:.4f}\")\n",
    "print(f\"R²-Score für Testjahr 2023: {r2:.4f}\")\n"
   ]
  },
  {
   "cell_type": "markdown",
   "id": "7fcee092-aeae-4036-8d2d-2b8f5a7f1689",
   "metadata": {},
   "source": [
    "Mean Absolute Error (MAE): 3.2580\n",
    "    Im Durchschnitt weichen die Vorhersagen um 3.26 Einheiten vom tatsächlichen Wert ab.\n",
    "    MAE ist robust gegenüber Ausreißern, da es einfach die absolute Differenz betrachtet.\n",
    "    ->Ein niedrigerer wäre MAE ist besser.\n",
    "\n",
    "Root Mean Squared Error (RMSE): 4.1583\n",
    "    Der durchschnittliche Vorhersagefehler beträgt 4.16 Einheiten, aber größere Fehler werden stärker gewichtet als bei MAE.\n",
    "    RMSE ist empfindlicher gegenüber Ausreißern als MAE, weil die Fehler quadriert werden\n",
    "    RMSE sollte möglichst nah an MAE liegen. Wenn RMSE deutlich größer als MAE ist, gibt es einige große Fehler (Ausreißer).\n",
    "    Die Werte liegen abeer nah beieinander - das ist gut\n",
    "\n",
    "R²-Score: 0.4912\n",
    "    Dein Modell erklärt 49.12% der Varianz der Zielvariable.\n",
    "    Ein Wert von 0.4912 ist mittelmäßig – das Modell erklärt ungefähr die Hälfte der Abweichungen, aber es gibt noch viel Verbesserungspotenzial.\n",
    "    R²-Werte liegen zwischen:\n",
    "        1.0 → Perfektes Modell\n",
    "        0.0 → Modell erklärt keine Varianz (nicht besser als der Mittelwert)\n",
    "        < 0.0 → Modell ist schlechter als eine einfache Durchschnittsschätzung\n",
    "    Ein Wert von 0.49 ist nicht schlecht, aber nicht optimal.\n",
    "    Ziel wäre ein R² > 0.7 oder 0.8, um ein wirklich gutes Modell zu haben.\n"
   ]
  },
  {
   "cell_type": "markdown",
   "id": "d14a777f-14d0-43a7-911c-c962892fd5ee",
   "metadata": {},
   "source": [
    "-----------------------------\n",
    "**relevante Features**"
   ]
  },
  {
   "cell_type": "code",
   "execution_count": 37,
   "id": "6b6bf092-ea3b-4cc8-ad1f-58f583cd3090",
   "metadata": {},
   "outputs": [
    {
     "name": "stdout",
     "output_type": "stream",
     "text": [
      "                   Feature  Importance\n",
      "5             Abfallart_HM    0.719886\n",
      "3                     Tour    0.068900\n",
      "9                  Hof_VMG    0.061193\n",
      "11                 Hof_VMN    0.034942\n",
      "8                  Hof_VMF    0.031263\n",
      "10                 Hof_VMM    0.019991\n",
      "0                    Monat    0.017580\n",
      "7                      Tag    0.016764\n",
      "1                       KW    0.014721\n",
      "4            Abfallart_BIO    0.009888\n",
      "12               Hof_VMWSF    0.001546\n",
      "13               Hof_VMWSM    0.001532\n",
      "14               Hof_VMWSN    0.001193\n",
      "2                  Schicht    0.000601\n",
      "6   Abfallart_SPM Sammlung    0.000000\n"
     ]
    },
    {
     "data": {
      "image/png": "[encoded data removed]",
      "text/plain": [
       "<Figure size 1000x500 with 1 Axes>"
      ]
     },
     "metadata": {},
     "output_type": "display_data"
    }
   ],
   "source": [
    "import matplotlib.pyplot as plt\n",
    "\n",
    "# Stelle sicher, dass wir nur die Spalten verwenden, die beim Training genutzt wurden\n",
    "X_train_filtered = X_train.drop(columns=['Jahr'])\n",
    "\n",
    "# DataFrame mit Features + Importances erstellen\n",
    "df_importance = pd.DataFrame({\n",
    "    'Feature': X_train_filtered.columns,  # Hier NICHT X_train verwenden!\n",
    "    'Importance': model.feature_importances_\n",
    "})\n",
    "\n",
    "# Sortieren nach Wichtigkeit\n",
    "df_importance = df_importance.sort_values(by='Importance', ascending=False)\n",
    "print(df_importance)\n",
    "\n",
    "# Plot\n",
    "plt.figure(figsize=(10, 5))\n",
    "plt.barh(df_importance[\"Feature\"], df_importance[\"Importance\"], color='skyblue')\n",
    "plt.xlabel(\"Feature Importance\")\n",
    "plt.ylabel(\"Features\")\n",
    "plt.title(\"Feature Importance von XGBoost\")\n",
    "plt.show()\n",
    "\n"
   ]
  },
  {
   "cell_type": "markdown",
   "id": "552255ac-55cf-4ab4-bf11-7a2abc442900",
   "metadata": {},
   "source": [
    "**unwichtige Features entfernen**"
   ]
  },
  {
   "cell_type": "code",
   "execution_count": 38,
   "id": "b48b408f-b1f6-49bc-8407-7a2e269a1b2f",
   "metadata": {},
   "outputs": [
    {
     "name": "stdout",
     "output_type": "stream",
     "text": [
      "Neuer MAE: 3.2617\n",
      "Neuer RMSE: 4.1769\n",
      "Neuer R²-Score: 0.4866\n"
     ]
    }
   ],
   "source": [
    "features_to_drop = [\"Abfallart_SPM Sammlung\", \"Schicht\", \"Hof_VMWSF\", \"Hof_VMWSM\", \"Hof_VMWSN\"]\n",
    "\n",
    "X_train_reduced = X_train_filtered.drop(columns=features_to_drop)\n",
    "X_val_reduced = X_val.drop(columns=features_to_drop)\n",
    "\n",
    "X_val_filtered = X_val_reduced.drop(columns=['Jahr'])\n",
    "\n",
    "# Modell erneut trainieren\n",
    "model.fit(X_train_reduced, y_train)\n",
    "\n",
    "# Neue Evaluation\n",
    "y_pred_val = model.predict(X_val_filtered)\n",
    "\n",
    "# Neue Metriken berechnen\n",
    "from sklearn.metrics import mean_absolute_error, mean_squared_error, r2_score\n",
    "import numpy as np\n",
    "\n",
    "mae = mean_absolute_error(y_val, y_pred_val)\n",
    "rmse = np.sqrt(mean_squared_error(y_val, y_pred_val))\n",
    "r2 = r2_score(y_val, y_pred_val)\n",
    "\n",
    "print(f\"Neuer MAE: {mae:.4f}\")\n",
    "print(f\"Neuer RMSE: {rmse:.4f}\")\n",
    "print(f\"Neuer R²-Score: {r2:.4f}\")\n"
   ]
  },
  {
   "cell_type": "markdown",
   "id": "c7d39585-9072-4d6f-b56e-9e43ac4005cc",
   "metadata": {},
   "source": [
    "**--> keine Verbesserung des Modelles durch entfernen der Features - sogar eher Verschlechterung**"
   ]
  },
  {
   "cell_type": "markdown",
   "id": "3f04ec77-d91c-4163-9012-475e5def5ce0",
   "metadata": {},
   "source": [
    "### Hyperparameter-Tuning\n",
    "\n",
    "Da das Weglassen der \"unwichtigen\" Features keine Verbesserung, sondern sogar eher eine Verschlechertung des Modells gebracht hat, wird das Hyperparameter Tuning mit allen vorhandenen Features durchgeführt"
   ]
  },
  {
   "cell_type": "code",
   "execution_count": 40,
   "id": "8447d0ef-ae0c-4e6b-a9c9-d69b2f39c8f6",
   "metadata": {
    "jupyter": {
     "source_hidden": true
    }
   },
   "outputs": [
    {
     "data": {
      "text/html": [
       "<div>\n",
       "<style scoped>\n",
       "    .dataframe tbody tr th:only-of-type {\n",
       "        vertical-align: middle;\n",
       "    }\n",
       "\n",
       "    .dataframe tbody tr th {\n",
       "        vertical-align: top;\n",
       "    }\n",
       "\n",
       "    .dataframe thead th {\n",
       "        text-align: right;\n",
       "    }\n",
       "</style>\n",
       "<table border=\"1\" class=\"dataframe\">\n",
       "  <thead>\n",
       "    <tr style=\"text-align: right;\">\n",
       "      <th></th>\n",
       "      <th>Monat</th>\n",
       "      <th>KW</th>\n",
       "      <th>Jahr</th>\n",
       "      <th>Schicht</th>\n",
       "      <th>Tour</th>\n",
       "      <th>Tonnage</th>\n",
       "      <th>Abfallart_BIO</th>\n",
       "      <th>Abfallart_HM</th>\n",
       "      <th>Abfallart_SPM Sammlung</th>\n",
       "      <th>Tag</th>\n",
       "      <th>Hof_VMF</th>\n",
       "      <th>Hof_VMG</th>\n",
       "      <th>Hof_VMM</th>\n",
       "      <th>Hof_VMN</th>\n",
       "      <th>Hof_VMWSF</th>\n",
       "      <th>Hof_VMWSM</th>\n",
       "      <th>Hof_VMWSN</th>\n",
       "    </tr>\n",
       "  </thead>\n",
       "  <tbody>\n",
       "    <tr>\n",
       "      <th>0</th>\n",
       "      <td>1</td>\n",
       "      <td>1</td>\n",
       "      <td>2019</td>\n",
       "      <td>1</td>\n",
       "      <td>1</td>\n",
       "      <td>5.59</td>\n",
       "      <td>1</td>\n",
       "      <td>0</td>\n",
       "      <td>0</td>\n",
       "      <td>2</td>\n",
       "      <td>1</td>\n",
       "      <td>0</td>\n",
       "      <td>0</td>\n",
       "      <td>0</td>\n",
       "      <td>0</td>\n",
       "      <td>0</td>\n",
       "      <td>0</td>\n",
       "    </tr>\n",
       "    <tr>\n",
       "      <th>1</th>\n",
       "      <td>1</td>\n",
       "      <td>1</td>\n",
       "      <td>2019</td>\n",
       "      <td>1</td>\n",
       "      <td>4</td>\n",
       "      <td>3.23</td>\n",
       "      <td>1</td>\n",
       "      <td>0</td>\n",
       "      <td>0</td>\n",
       "      <td>2</td>\n",
       "      <td>1</td>\n",
       "      <td>0</td>\n",
       "      <td>0</td>\n",
       "      <td>0</td>\n",
       "      <td>0</td>\n",
       "      <td>0</td>\n",
       "      <td>0</td>\n",
       "    </tr>\n",
       "  </tbody>\n",
       "</table>\n",
       "</div>"
      ],
      "text/plain": [
       "   Monat  KW  Jahr  Schicht  Tour  Tonnage  Abfallart_BIO  Abfallart_HM  \\\n",
       "0      1   1  2019        1     1     5.59              1             0   \n",
       "1      1   1  2019        1     4     3.23              1             0   \n",
       "\n",
       "   Abfallart_SPM Sammlung  Tag  Hof_VMF  Hof_VMG  Hof_VMM  Hof_VMN  Hof_VMWSF  \\\n",
       "0                       0    2        1        0        0        0          0   \n",
       "1                       0    2        1        0        0        0          0   \n",
       "\n",
       "   Hof_VMWSM  Hof_VMWSN  \n",
       "0          0          0  \n",
       "1          0          0  "
      ]
     },
     "execution_count": 40,
     "metadata": {},
     "output_type": "execute_result"
    }
   ],
   "source": [
    "df = pd.read_csv(file_path) \n",
    "df.head(2)"
   ]
  },
  {
   "cell_type": "code",
   "execution_count": 41,
   "id": "4d74b6a2-3e42-44e2-a937-bb1e47c14207",
   "metadata": {},
   "outputs": [],
   "source": [
    "X = df.drop(columns=['Tonnage'])  # Features (alle Spalten außer Ziel)\n",
    "y = df['Tonnage']  # Zielvariable"
   ]
  },
  {
   "cell_type": "code",
   "execution_count": 42,
   "id": "3e59bb53-f917-4970-884e-9c8644298c2b",
   "metadata": {},
   "outputs": [
    {
     "name": "stdout",
     "output_type": "stream",
     "text": [
      "Train: (223715, 16), Validation: (79232, 16), Test: (78714, 16), \n"
     ]
    }
   ],
   "source": [
    "# Trainingsdaten: 2019, 2020, 2021\n",
    "X_train = X[X[\"Jahr\"].isin([2019, 2020, 2021])]\n",
    "y_train = y[X[\"Jahr\"].isin([2019, 2020, 2021])]\n",
    "\n",
    "# Validierungsdaten: 2022\n",
    "X_val = X[X[\"Jahr\"] == 2022]\n",
    "y_val = y[X[\"Jahr\"] == 2022]\n",
    "\n",
    "# Testdaten: 2023\n",
    "X_test = X[X[\"Jahr\"] == 2023]\n",
    "y_test = y[X[\"Jahr\"] == 2023]\n",
    "\n",
    "print(f\"Train: {X_train.shape}, Validation: {X_val.shape}, Test: {X_test.shape}, \")"
   ]
  },
  {
   "cell_type": "markdown",
   "id": "c52dbbeb-b1ff-4609-a361-156bf46ef685",
   "metadata": {},
   "source": [
    "**PARAMETER:**  \n",
    "**n_estimators** Anzahl der Bäume im Modell\tMehr Bäume verbessern oft die Leistung, aber zu viele können Überanpassung verursachen. Werte von 100-300 sind ein guter Startpunkt.  \n",
    "**max_depth** Maximale Tiefe eines Baums\tTiefe Bäume erfassen mehr Muster, können aber auch overfitting verursachen. Werte von 3-7 sind eine gute Balance.  \n",
    "**learning_rate**\tGewichtung jedes neuen Baums\tEin kleinerer Wert (z. B. 0.01-0.1) macht das Training stabiler, aber langsamer.\n",
    "subsample\tAnteil der Trainingsdaten pro Baum\tReduziert Overfitting, indem jeder Baum nur 70-100% der Daten sieht.  \n",
    "**colsample_bytree**\tAnteil der Features, die pro Baum verwendet werden\tReduziert Overfitting und fördert Vielfalt zwischen den Bäumen (70-100%).  \n",
    "\n"
   ]
  },
  {
   "cell_type": "markdown",
   "id": "de7bcb78-429c-44d6-a4a3-ccb589401073",
   "metadata": {},
   "source": [
    "**Warum genau diese Werte?**\n",
    "\n",
    "Basierend auf Best Practices  \n",
    "Werte wie max_depth = 3-7 oder learning_rate = 0.01-0.1 sind Standard in der Praxis.  \n",
    "Performance vs. Rechenzeit  \n",
    "Ein zu großer n_estimators-Wert (z. B. 1000) erhöht die Trainingszeit stark.  \n",
    "max_depth über 10 macht das Modell zu komplex und overfitten.  \n",
    "Guter Kompromiss zwischen Exploration & Optimierung  \n",
    "GridSearch testet 27 Kombinationen (3×3×3×3=27), was genug ist, ohne das Training zu verlangsamen.  "
   ]
  },
  {
   "cell_type": "code",
   "execution_count": 43,
   "id": "8a6c3200-26b4-451d-9ad2-d3496f4cde0b",
   "metadata": {},
   "outputs": [
    {
     "name": "stdout",
     "output_type": "stream",
     "text": [
      "Fitting 5 folds for each of 243 candidates, totalling 1215 fits\n"
     ]
    },
    {
     "name": "stderr",
     "output_type": "stream",
     "text": [
      "/Users/blongsch/ikt/lib/python3.11/site-packages/joblib/externals/loky/process_executor.py:752: UserWarning: A worker stopped while some jobs were given to the executor. This can be caused by a too short worker timeout or by a memory leak.\n",
      "  warnings.warn(\n"
     ]
    },
    {
     "name": "stdout",
     "output_type": "stream",
     "text": [
      "Beste Hyperparameter: {'colsample_bytree': 1.0, 'learning_rate': 0.05, 'max_depth': 7, 'n_estimators': 100, 'subsample': 0.7}\n"
     ]
    }
   ],
   "source": [
    "from sklearn.model_selection import GridSearchCV\n",
    "\n",
    "param_grid = {\n",
    "    'n_estimators': [100, 200, 300],  # Anzahl der Bäume\n",
    "    'max_depth': [3, 5, 7],  # Maximale Tiefe der Bäume\n",
    "    'learning_rate': [0.01, 0.05, 0.1],  # Lernrate\n",
    "    'subsample': [0.7, 0.8, 1.0],  # Anteil der verwendeten Daten pro Baum\n",
    "    'colsample_bytree': [0.7, 0.8, 1.0],  # Anteil der Spalten pro Baum\n",
    "}\n",
    " # XGBoost Modell definieren\n",
    "xgb_model = xgb.XGBRegressor(objective=\"reg:squarederror\", random_state=42)\n",
    "\n",
    "# GridSearch mit 5-facher Kreuzvalidierung\n",
    "grid_search = GridSearchCV(\n",
    "    estimator=xgb_model,\n",
    "    param_grid=param_grid,\n",
    "    cv=5,\n",
    "    scoring='neg_mean_absolute_error',\n",
    "    n_jobs=-1,  \n",
    "    verbose=1\n",
    ")\n",
    "\n",
    "# GridSearch starten (ohne Zeitmessung)\n",
    "grid_search.fit(X_train, y_train)\n",
    "\n",
    "# Beste Parameter ausgeben\n",
    "print(\"Beste Hyperparameter:\", grid_search.best_params_)\n",
    "\n",
    "\n"
   ]
  },
  {
   "cell_type": "markdown",
   "id": "a037fb14-aa9b-4dec-adbe-6cd0cd37a39e",
   "metadata": {},
   "source": [
    "**colsample_bytree: 1.0** -> 100% der Features pro Baum verwendet\tKeine Feature-Reduktion → Modell nutzt alle verfügbaren Infos.  \n",
    "**learning_rate: 0.05**\t-> Schrittweite für jeden Baum\tGuter Kompromiss zwischen Stabilität & Geschwindigkeit.  \n",
    "**max_depth: 7** -> Maximale Tiefe eines Entscheidungsbaums\tFängt komplexe Muster ein, aber nicht zu tief für Overfitting.  \n",
    "**n_estimators: 100** -> Anzahl der Bäume\tNicht zu viele Bäume → schnelleres Training, geringeres Overfitting.  \n",
    "**subsample:0.7** -> Prozentsatz der verwendeten Trainingsdaten pro Baum Verhindert Overfitting, da jeder Baum nur 70% der Daten sieht.  "
   ]
  },
  {
   "cell_type": "markdown",
   "id": "026b522c-b0de-4cdb-9bfe-eff0232b1e58",
   "metadata": {},
   "source": [
    "-----------------------------\n",
    "**beste Parameter im Training anwenden**"
   ]
  },
  {
   "cell_type": "code",
   "execution_count": 44,
   "id": "eed33d6c-64a6-41fb-90eb-e6f75362dc98",
   "metadata": {},
   "outputs": [
    {
     "name": "stdout",
     "output_type": "stream",
     "text": [
      "Trainingszeit: 0.52 Sekunden\n",
      "Neuer MAE nach Tuning: 3.3150\n",
      "Neuer RMSE nach Tuning: 4.1136\n",
      "Neuer R²-Score nach Tuning: 0.5021\n"
     ]
    },
    {
     "name": "stderr",
     "output_type": "stream",
     "text": [
      "/Users/blongsch/ikt/lib/python3.11/site-packages/sklearn/metrics/_regression.py:492: FutureWarning: 'squared' is deprecated in version 1.4 and will be removed in 1.6. To calculate the root mean squared error, use the function'root_mean_squared_error'.\n",
      "  warnings.warn(\n"
     ]
    }
   ],
   "source": [
    "import xgboost as xgb\n",
    "from sklearn.metrics import mean_absolute_error, mean_squared_error, r2_score\n",
    "import time \n",
    "\n",
    "# Beste Hyperparameter aus GridSearchCV\n",
    "best_params = {\n",
    "    'colsample_bytree': 1.0,\n",
    "    'learning_rate': 0.05,\n",
    "    'max_depth': 7,\n",
    "    'n_estimators': 100,\n",
    "    'subsample': 0.7\n",
    "}\n",
    "\n",
    "# Modell initialisieren mit besten Hyperparametern\n",
    "final_model = xgb.XGBRegressor(**best_params, objective=\"reg:squarederror\")\n",
    "\n",
    "\n",
    "start_time = time.time()\n",
    "# Modell mit Trainingsdaten (2019-2021) trainieren (Jahr wird nicht verwendet)\n",
    "final_model.fit(X_train.drop(columns=['Jahr']), y_train)\n",
    "end_time = time.time()\n",
    "\n",
    "train_time = end_time - start_time\n",
    "print(f\"Trainingszeit: {train_time:.2f} Sekunden\")\n",
    "\n",
    "# Vorhersagen für das Validierungsjahr 2022\n",
    "y_pred_val = final_model.predict(X_val.drop(columns=['Jahr']))\n",
    "\n",
    "# Metriken berechnen\n",
    "mae = mean_absolute_error(y_val, y_pred_val)\n",
    "rmse = mean_squared_error(y_val, y_pred_val, squared=False)\n",
    "r2 = r2_score(y_val, y_pred_val)\n",
    "\n",
    "# Ergebnisse ausgeben\n",
    "print(f\"Neuer MAE nach Tuning: {mae:.4f}\")\n",
    "print(f\"Neuer RMSE nach Tuning: {rmse:.4f}\")\n",
    "print(f\"Neuer R²-Score nach Tuning: {r2:.4f}\")\n"
   ]
  },
  {
   "cell_type": "markdown",
   "id": "7f613447-165c-4c09-9d61-11474a384549",
   "metadata": {},
   "source": [
    "MAE ist leicht gestiegen (von 3.2580 auf 3.3150): Dies bedeutet, dass die durchschnittliche absolute Abweichung der Vorhersagen etwas größer geworden ist.\n",
    "\n",
    "RMSE ist gesunken (von 4.1583 auf 4.1136): Da RMSE größere Fehler stärker bestraft, zeigt dieser Rückgang, dass das Modell weniger große Fehler macht.\n",
    "\n",
    "R²-Score ist gestiegen (von 0.4912 auf 0.5021): Dies bedeutet, dass das Modell nun etwas besser die Varianz der Zielvariable erklärt.\n",
    "\n",
    "**Interpretation:**\n",
    "Das Tuning hat dazu geführt, dass das Modell insgesamt stabiler wurde (geringere große Fehler, was am gesunkenen RMSE erkennbar ist).\n",
    "Die Verbesserung des R²-Scores zeigt, dass das Modell nun etwas mehr der tatsächlichen Variabilität in den Daten erklärt.\n",
    "Dass MAE leicht gestiegen ist, könnte darauf hindeuten, dass das Modell möglicherweise konservativer geworden ist oder dass kleinere Fehler häufiger sind."
   ]
  },
  {
   "cell_type": "markdown",
   "id": "1fe216b0-3a00-470c-8fe0-f4c88fd28939",
   "metadata": {},
   "source": [
    "-------------\n",
    "**auf Testdaten anwenden**"
   ]
  },
  {
   "cell_type": "code",
   "execution_count": 45,
   "id": "85faf957-8279-445d-a584-232fd65c3b59",
   "metadata": {},
   "outputs": [
    {
     "name": "stdout",
     "output_type": "stream",
     "text": [
      "MAE auf Testdaten: 3.5523\n",
      "RMSE auf Testdaten: 4.3353\n",
      "R²-Score auf Testdaten: 0.2885\n"
     ]
    }
   ],
   "source": [
    "X_test_reduced = X_test.drop(columns=['Jahr'])\n",
    "\n",
    "# Vorhersage auf den Testdaten\n",
    "y_pred_test = final_model.predict(X_test_reduced)\n",
    "\n",
    "# Metriken berechnen\n",
    "mae_test = mean_absolute_error(y_test, y_pred_test)\n",
    "rmse_test = np.sqrt(mean_squared_error(y_test, y_pred_test))\n",
    "r2_test = r2_score(y_test, y_pred_test)\n",
    "\n",
    "# Ergebnisse ausgeben\n",
    "print(f\"MAE auf Testdaten: {mae_test:.4f}\")\n",
    "print(f\"RMSE auf Testdaten: {rmse_test:.4f}\")\n",
    "print(f\"R²-Score auf Testdaten: {r2_test:.4f}\")\n"
   ]
  },
  {
   "cell_type": "markdown",
   "id": "733e4ed5-087f-434c-86f2-3c18b2ef2d2c",
   "metadata": {},
   "source": [
    "-------------------------\n",
    "Es sieht so aus, als ob das Modell auf den Testdaten nicht ganz so gut abschneidet wie auf den Validierungsdaten, was darauf hindeutet, dass es möglicherweise überangepasst (overfitted) ist oder dass die Testdaten eine andere Verteilung aufweisen als die Trainings- bzw. Validierungsdaten.\n",
    "\n",
    "    MAE (Mean Absolute Error) auf den Testdaten liegt bei 3.5523, was eine durchschnittliche absolute Abweichung von etwa 3,55 Einheiten von den tatsächlichen Werten bedeutet.\n",
    "    RMSE (Root Mean Squared Error) liegt bei 4.3353, was darauf hinweist, dass größere Fehler stärker gewichtet werden, da das Quadrat der Fehler zur Berechnung verwendet wird.\n",
    "    R²-Score auf den Testdaten ist 0.2885, was darauf hinweist, dass nur etwa 29% der Variation in den Testdaten vom Modell erklärt wird. Das ist relativ niedrig und deutet darauf hin, dass das Modell möglicherweise nicht alle Muster in den Testdaten gut erfassen konnte.\n",
    "\n",
    "Auf den Validierungsdaten sieht es jedoch besser aus:\n",
    "\n",
    "    Der MAE ist mit 3.3150 etwas niedriger, was bedeutet, dass das Modell im Durchschnitt genauer ist.\n",
    "    Der RMSE von 4.1136 ist auch etwas niedriger als auf den Testdaten.\n",
    "    Der R²-Score von 0.5021 zeigt, dass das Modell etwa 50% der Variation auf den Validierungsdaten erklärt – was eine deutliche Verbesserung darstellt.\n",
    "\n",
    "Was könnte das bedeuten?\n",
    "\n",
    "    Überanpassung (Overfitting): Das Modell könnte auf den Trainings- und Validierungsdaten gut gelernt haben, aber auf den Testdaten nicht so gut performen. Das könnte daran liegen, dass das Modell zu viele spezifische Details aus den Trainingsdaten gelernt hat, die nicht auf die Testdaten übertragbar sind.\n",
    "    Testdaten sind anders: Es könnte auch sein, dass die Testdaten sich von den Trainings- oder Validierungsdaten unterscheiden, was zu einer schlechteren Leistung führt."
   ]
  },
  {
   "cell_type": "code",
   "execution_count": null,
   "id": "19c17d0b-e1aa-44c4-af15-eb3e9c8fb582",
   "metadata": {},
   "outputs": [],
   "source": []
  }
 ],
 "metadata": {
  "kernelspec": {
   "display_name": "Python 3 (ipykernel)",
   "language": "python",
   "name": "python3"
  },
  "language_info": {
   "codemirror_mode": {
    "name": "ipython",
    "version": 3
   },
   "file_extension": ".py",
   "mimetype": "text/x-python",
   "name": "python",
   "nbconvert_exporter": "python",
   "pygments_lexer": "ipython3",
   "version": "3.11.6"
  }
 },
 "nbformat": 4,
 "nbformat_minor": 5
}
